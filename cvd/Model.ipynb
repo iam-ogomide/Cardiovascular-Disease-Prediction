{
 "cells": [
  {
   "cell_type": "code",
   "execution_count": 1,
   "metadata": {},
   "outputs": [],
   "source": [
    "#Loading The Libraries\n",
    "\n",
    "#For uploading and accessing the data\n",
    "import pandas as pd\n",
    "import numpy as np\n",
    "\n",
    "#For visualizations\n",
    "import matplotlib.pyplot as plt\n",
    "import seaborn as sns\n",
    "\n",
    "import warnings\n",
    "warnings.filterwarnings(\"ignore\")"
   ]
  },
  {
   "cell_type": "markdown",
   "metadata": {},
   "source": [
    "# Introduction\n",
    "\n",
    "### Aim of the Model\n",
    "- The aim of the models is to be able to succesfully identify patients with cardiovascular disease"
   ]
  },
  {
   "cell_type": "markdown",
   "metadata": {},
   "source": [
    "## Description of data\n",
    "The selected dataset consists of physical attributes of a human. Some features are measured values, others are determined by the patient. The features will be discussed below in more detail. The important target variable is whether cariovascular disease is present in the patient or not.\n",
    "\n",
    "The dataset was published by the Medical Center, Long Beach and Cleveland Clinic Foundation."
   ]
  },
  {
   "cell_type": "markdown",
   "metadata": {},
   "source": [
    "## Attributes\n",
    "\n",
    " *1. age**: The person's age in years\n",
    "\n",
    " **2. sex**: The person's sex (1 = male, 0 = female)\n",
    "\n",
    " **3. cp**: Chest pain type \n",
    "            * 0: Typical angina: chest pain related decrease blood supply to the heart\n",
    "            * 1: Atypical angina: chest pain not related to heart\n",
    "            * 2: Non-anginal pain: typically esophageal spasms (non heart related)\n",
    "            * 3: Asymptomatic: chest pain not showing signs of disease\n",
    "            \n",
    "**4. trestbps**: resting blood pressure (in mm Hg on admission to the hospital)\n",
    "\n",
    "**5. chol**: The person's cholesterol measurement in mg/dl\n",
    "\n",
    "**6. fbs**: the perdon's fasting blood sugar > 120 mg/dl. (1 = true; 0 = false)\n",
    "\n",
    "**7. restecg**: Resting electrocardiographic results\n",
    "\n",
    "     0: Nothing to note\n",
    "     1: ST-T Wave abnormality\n",
    "        * can range from mild symptoms to severe problems\n",
    "        * signals non-normal heart beat\n",
    "     2: Possible or definite left ventricular hypertrophy\n",
    "        * Enlarged heart's main pumping chamber\n",
    "        \n",
    "**8. thalach**: Maximum heart rate achieved\n",
    "\n",
    "**9. exang**: Exercise induced angina (1 = yes; 0 = no)\n",
    "\n",
    "**10. oldpeak**: - ST depression induced by exercise relative to rest looks at stress of heart during excercise unhealthy heart will stress more\n",
    "\n",
    "**11. slope**: - the slope of the peak exercise ST segment\n",
    "    * 0: Upsloping: better heart rate with excercise (uncommon)\n",
    "    * 1: Flatsloping: minimal change (typical healthy heart)\n",
    "    * 2: Downslopins: signs of unhealthy heart\n",
    "    \n",
    "**12. ca**: Number of major vessels (0-3) colored by flourosopy\n",
    "    * colored vessel means the doctor can see the blood passing through\n",
    "    * the more blood movement the better (no clots)\n",
    "    \n",
    "**13. thal**: Thalium stress result\n",
    "    * 1,3: normal\n",
    "    * 6: fixed defect: used to be defect but ok now\n",
    "    * 7: reversable defect: no proper blood movement when excercising\n",
    "    \n",
    "**14. target**: Person have disease or not (1=yes, 0=no) (= the predicted attribute)"
   ]
  },
  {
   "cell_type": "code",
   "execution_count": 2,
   "metadata": {},
   "outputs": [],
   "source": [
    "df= pd.read_csv('heart.csv')"
   ]
  },
  {
   "cell_type": "code",
   "execution_count": 3,
   "metadata": {},
   "outputs": [
    {
     "data": {
      "text/html": [
       "<div>\n",
       "<style scoped>\n",
       "    .dataframe tbody tr th:only-of-type {\n",
       "        vertical-align: middle;\n",
       "    }\n",
       "\n",
       "    .dataframe tbody tr th {\n",
       "        vertical-align: top;\n",
       "    }\n",
       "\n",
       "    .dataframe thead th {\n",
       "        text-align: right;\n",
       "    }\n",
       "</style>\n",
       "<table border=\"1\" class=\"dataframe\">\n",
       "  <thead>\n",
       "    <tr style=\"text-align: right;\">\n",
       "      <th></th>\n",
       "      <th>age</th>\n",
       "      <th>sex</th>\n",
       "      <th>cp</th>\n",
       "      <th>trestbps</th>\n",
       "      <th>chol</th>\n",
       "      <th>fbs</th>\n",
       "      <th>restecg</th>\n",
       "      <th>thalach</th>\n",
       "      <th>exang</th>\n",
       "      <th>oldpeak</th>\n",
       "      <th>slope</th>\n",
       "      <th>ca</th>\n",
       "      <th>thal</th>\n",
       "      <th>target</th>\n",
       "    </tr>\n",
       "  </thead>\n",
       "  <tbody>\n",
       "    <tr>\n",
       "      <th>0</th>\n",
       "      <td>63</td>\n",
       "      <td>1</td>\n",
       "      <td>3</td>\n",
       "      <td>145</td>\n",
       "      <td>233</td>\n",
       "      <td>1</td>\n",
       "      <td>0</td>\n",
       "      <td>150</td>\n",
       "      <td>0</td>\n",
       "      <td>2.3</td>\n",
       "      <td>0</td>\n",
       "      <td>0</td>\n",
       "      <td>1</td>\n",
       "      <td>1</td>\n",
       "    </tr>\n",
       "    <tr>\n",
       "      <th>1</th>\n",
       "      <td>37</td>\n",
       "      <td>1</td>\n",
       "      <td>2</td>\n",
       "      <td>130</td>\n",
       "      <td>250</td>\n",
       "      <td>0</td>\n",
       "      <td>1</td>\n",
       "      <td>187</td>\n",
       "      <td>0</td>\n",
       "      <td>3.5</td>\n",
       "      <td>0</td>\n",
       "      <td>0</td>\n",
       "      <td>2</td>\n",
       "      <td>1</td>\n",
       "    </tr>\n",
       "    <tr>\n",
       "      <th>2</th>\n",
       "      <td>41</td>\n",
       "      <td>0</td>\n",
       "      <td>1</td>\n",
       "      <td>130</td>\n",
       "      <td>204</td>\n",
       "      <td>0</td>\n",
       "      <td>0</td>\n",
       "      <td>172</td>\n",
       "      <td>0</td>\n",
       "      <td>1.4</td>\n",
       "      <td>2</td>\n",
       "      <td>0</td>\n",
       "      <td>2</td>\n",
       "      <td>1</td>\n",
       "    </tr>\n",
       "    <tr>\n",
       "      <th>3</th>\n",
       "      <td>56</td>\n",
       "      <td>1</td>\n",
       "      <td>1</td>\n",
       "      <td>120</td>\n",
       "      <td>236</td>\n",
       "      <td>0</td>\n",
       "      <td>1</td>\n",
       "      <td>178</td>\n",
       "      <td>0</td>\n",
       "      <td>0.8</td>\n",
       "      <td>2</td>\n",
       "      <td>0</td>\n",
       "      <td>2</td>\n",
       "      <td>1</td>\n",
       "    </tr>\n",
       "    <tr>\n",
       "      <th>4</th>\n",
       "      <td>57</td>\n",
       "      <td>0</td>\n",
       "      <td>0</td>\n",
       "      <td>120</td>\n",
       "      <td>354</td>\n",
       "      <td>0</td>\n",
       "      <td>1</td>\n",
       "      <td>163</td>\n",
       "      <td>1</td>\n",
       "      <td>0.6</td>\n",
       "      <td>2</td>\n",
       "      <td>0</td>\n",
       "      <td>2</td>\n",
       "      <td>1</td>\n",
       "    </tr>\n",
       "  </tbody>\n",
       "</table>\n",
       "</div>"
      ],
      "text/plain": [
       "   age  sex  cp  trestbps  chol  fbs  restecg  thalach  exang  oldpeak  slope  \\\n",
       "0   63    1   3       145   233    1        0      150      0      2.3      0   \n",
       "1   37    1   2       130   250    0        1      187      0      3.5      0   \n",
       "2   41    0   1       130   204    0        0      172      0      1.4      2   \n",
       "3   56    1   1       120   236    0        1      178      0      0.8      2   \n",
       "4   57    0   0       120   354    0        1      163      1      0.6      2   \n",
       "\n",
       "   ca  thal  target  \n",
       "0   0     1       1  \n",
       "1   0     2       1  \n",
       "2   0     2       1  \n",
       "3   0     2       1  \n",
       "4   0     2       1  "
      ]
     },
     "execution_count": 3,
     "metadata": {},
     "output_type": "execute_result"
    }
   ],
   "source": [
    "df.head()"
   ]
  },
  {
   "cell_type": "code",
   "execution_count": 4,
   "metadata": {},
   "outputs": [
    {
     "data": {
      "text/plain": [
       "(303, 14)"
      ]
     },
     "execution_count": 4,
     "metadata": {},
     "output_type": "execute_result"
    }
   ],
   "source": [
    "df.shape"
   ]
  },
  {
   "cell_type": "code",
   "execution_count": 6,
   "metadata": {},
   "outputs": [
    {
     "data": {
      "text/plain": [
       "<matplotlib.axes._subplots.AxesSubplot at 0xb0ba7f0>"
      ]
     },
     "execution_count": 6,
     "metadata": {},
     "output_type": "execute_result"
    },
    {
     "data": {
      "image/png": "[encoded data removed]",
      "text/plain": [
       "<Figure size 1440x1080 with 2 Axes>"
      ]
     },
     "metadata": {
      "needs_background": "light"
     },
     "output_type": "display_data"
    }
   ],
   "source": [
    "#correlation for each feature in the dataset\n",
    "plt.figure(figsize=(20,15))\n",
    "sns.heatmap(df.corr(),annot=True,cmap='viridis')"
   ]
  },
  {
   "cell_type": "code",
   "execution_count": 6,
   "metadata": {
    "scrolled": true
   },
   "outputs": [
    {
     "data": {
      "image/png": "[encoded data removed]",
      "text/plain": [
       "<Figure size 1440x1008 with 16 Axes>"
      ]
     },
     "metadata": {
      "needs_background": "light"
     },
     "output_type": "display_data"
    }
   ],
   "source": [
    "df.hist(figsize=(20,14))\n",
    "plt.show()"
   ]
  },
  {
   "cell_type": "code",
   "execution_count": 8,
   "metadata": {},
   "outputs": [
    {
     "data": {
      "text/plain": [
       "<matplotlib.axes._subplots.AxesSubplot at 0xb0b8f30>"
      ]
     },
     "execution_count": 8,
     "metadata": {},
     "output_type": "execute_result"
    },
    {
     "data": {
      "image/png": "[encoded data removed]",
      "text/plain": [
       "<Figure size 432x288 with 1 Axes>"
      ]
     },
     "metadata": {},
     "output_type": "display_data"
    }
   ],
   "source": [
    "sns.set_style('whitegrid')\n",
    "sns.countplot(x='target',data=df,palette='RdBu_r')"
   ]
  },
  {
   "cell_type": "markdown",
   "metadata": {},
   "source": [
    "#### Renaming the column headers for better understanding of visualizations."
   ]
  },
  {
   "cell_type": "code",
   "execution_count": 9,
   "metadata": {},
   "outputs": [],
   "source": [
    "df.rename(columns ={'age':'Age','sex':'Sex','cp':'Chest_pain','trestbps':'Resting_blood_pressure','chol':'Cholesterol','fbs':'Fasting_blood_sugar',\n",
    "                    'restecg':'ECG_results','thalach':'Maximum_heart_rate','exang':'Exercise_induced_angina','oldpeak':'ST_depression','ca':'Major_vessels',\n",
    "                   'thal':'Thalassemia_types','target':'Heart_attack','slope':'ST_slope'}, inplace = True)"
   ]
  },
  {
   "cell_type": "code",
   "execution_count": null,
   "metadata": {},
   "outputs": [],
   "source": []
  },
  {
   "cell_type": "code",
   "execution_count": 10,
   "metadata": {},
   "outputs": [
    {
     "data": {
      "text/html": [
       "<div>\n",
       "<style scoped>\n",
       "    .dataframe tbody tr th:only-of-type {\n",
       "        vertical-align: middle;\n",
       "    }\n",
       "\n",
       "    .dataframe tbody tr th {\n",
       "        vertical-align: top;\n",
       "    }\n",
       "\n",
       "    .dataframe thead th {\n",
       "        text-align: right;\n",
       "    }\n",
       "</style>\n",
       "<table border=\"1\" class=\"dataframe\">\n",
       "  <thead>\n",
       "    <tr style=\"text-align: right;\">\n",
       "      <th></th>\n",
       "      <th>Age</th>\n",
       "      <th>Sex</th>\n",
       "      <th>Chest_pain</th>\n",
       "      <th>Resting_blood_pressure</th>\n",
       "      <th>Cholesterol</th>\n",
       "      <th>Fasting_blood_sugar</th>\n",
       "      <th>ECG_results</th>\n",
       "      <th>Maximum_heart_rate</th>\n",
       "      <th>Exercise_induced_angina</th>\n",
       "      <th>ST_depression</th>\n",
       "      <th>ST_slope</th>\n",
       "      <th>Major_vessels</th>\n",
       "      <th>Thalassemia_types</th>\n",
       "      <th>Heart_attack</th>\n",
       "    </tr>\n",
       "  </thead>\n",
       "  <tbody>\n",
       "    <tr>\n",
       "      <th>0</th>\n",
       "      <td>63</td>\n",
       "      <td>1</td>\n",
       "      <td>3</td>\n",
       "      <td>145</td>\n",
       "      <td>233</td>\n",
       "      <td>1</td>\n",
       "      <td>0</td>\n",
       "      <td>150</td>\n",
       "      <td>0</td>\n",
       "      <td>2.3</td>\n",
       "      <td>0</td>\n",
       "      <td>0</td>\n",
       "      <td>1</td>\n",
       "      <td>1</td>\n",
       "    </tr>\n",
       "    <tr>\n",
       "      <th>1</th>\n",
       "      <td>37</td>\n",
       "      <td>1</td>\n",
       "      <td>2</td>\n",
       "      <td>130</td>\n",
       "      <td>250</td>\n",
       "      <td>0</td>\n",
       "      <td>1</td>\n",
       "      <td>187</td>\n",
       "      <td>0</td>\n",
       "      <td>3.5</td>\n",
       "      <td>0</td>\n",
       "      <td>0</td>\n",
       "      <td>2</td>\n",
       "      <td>1</td>\n",
       "    </tr>\n",
       "    <tr>\n",
       "      <th>2</th>\n",
       "      <td>41</td>\n",
       "      <td>0</td>\n",
       "      <td>1</td>\n",
       "      <td>130</td>\n",
       "      <td>204</td>\n",
       "      <td>0</td>\n",
       "      <td>0</td>\n",
       "      <td>172</td>\n",
       "      <td>0</td>\n",
       "      <td>1.4</td>\n",
       "      <td>2</td>\n",
       "      <td>0</td>\n",
       "      <td>2</td>\n",
       "      <td>1</td>\n",
       "    </tr>\n",
       "    <tr>\n",
       "      <th>3</th>\n",
       "      <td>56</td>\n",
       "      <td>1</td>\n",
       "      <td>1</td>\n",
       "      <td>120</td>\n",
       "      <td>236</td>\n",
       "      <td>0</td>\n",
       "      <td>1</td>\n",
       "      <td>178</td>\n",
       "      <td>0</td>\n",
       "      <td>0.8</td>\n",
       "      <td>2</td>\n",
       "      <td>0</td>\n",
       "      <td>2</td>\n",
       "      <td>1</td>\n",
       "    </tr>\n",
       "    <tr>\n",
       "      <th>4</th>\n",
       "      <td>57</td>\n",
       "      <td>0</td>\n",
       "      <td>0</td>\n",
       "      <td>120</td>\n",
       "      <td>354</td>\n",
       "      <td>0</td>\n",
       "      <td>1</td>\n",
       "      <td>163</td>\n",
       "      <td>1</td>\n",
       "      <td>0.6</td>\n",
       "      <td>2</td>\n",
       "      <td>0</td>\n",
       "      <td>2</td>\n",
       "      <td>1</td>\n",
       "    </tr>\n",
       "  </tbody>\n",
       "</table>\n",
       "</div>"
      ],
      "text/plain": [
       "   Age  Sex  Chest_pain  Resting_blood_pressure  Cholesterol  \\\n",
       "0   63    1           3                     145          233   \n",
       "1   37    1           2                     130          250   \n",
       "2   41    0           1                     130          204   \n",
       "3   56    1           1                     120          236   \n",
       "4   57    0           0                     120          354   \n",
       "\n",
       "   Fasting_blood_sugar  ECG_results  Maximum_heart_rate  \\\n",
       "0                    1            0                 150   \n",
       "1                    0            1                 187   \n",
       "2                    0            0                 172   \n",
       "3                    0            1                 178   \n",
       "4                    0            1                 163   \n",
       "\n",
       "   Exercise_induced_angina  ST_depression  ST_slope  Major_vessels  \\\n",
       "0                        0            2.3         0              0   \n",
       "1                        0            3.5         0              0   \n",
       "2                        0            1.4         2              0   \n",
       "3                        0            0.8         2              0   \n",
       "4                        1            0.6         2              0   \n",
       "\n",
       "   Thalassemia_types  Heart_attack  \n",
       "0                  1             1  \n",
       "1                  2             1  \n",
       "2                  2             1  \n",
       "3                  2             1  \n",
       "4                  2             1  "
      ]
     },
     "execution_count": 10,
     "metadata": {},
     "output_type": "execute_result"
    }
   ],
   "source": [
    "df2 = df.copy()\n",
    "df1 = df.copy()\n",
    "df.head()\n",
    "#1 = Male and 0 = Female in 'Sex' column."
   ]
  },
  {
   "cell_type": "code",
   "execution_count": 11,
   "metadata": {},
   "outputs": [
    {
     "data": {
      "text/plain": [
       "Age                        0\n",
       "Sex                        0\n",
       "Chest_pain                 0\n",
       "Resting_blood_pressure     0\n",
       "Cholesterol                0\n",
       "Fasting_blood_sugar        0\n",
       "ECG_results                0\n",
       "Maximum_heart_rate         0\n",
       "Exercise_induced_angina    0\n",
       "ST_depression              0\n",
       "ST_slope                   0\n",
       "Major_vessels              0\n",
       "Thalassemia_types          0\n",
       "Heart_attack               0\n",
       "dtype: int64"
      ]
     },
     "execution_count": 11,
     "metadata": {},
     "output_type": "execute_result"
    }
   ],
   "source": [
    "df.isnull().sum()"
   ]
  },
  {
   "cell_type": "markdown",
   "metadata": {},
   "source": [
    "##### Replacing the values for Sex and Heart_Attack colummns as these will make the understanding of visualizations better instead of numeric values."
   ]
  },
  {
   "cell_type": "code",
   "execution_count": 12,
   "metadata": {},
   "outputs": [],
   "source": [
    "df1['Sex'].replace({1:'Male',0:'Female'},inplace = True)\n",
    "df1['Heart_attack'].replace({1:'Heart_attack - Yes',0:'Heart_attack - No'},inplace = True)"
   ]
  },
  {
   "cell_type": "markdown",
   "metadata": {},
   "source": [
    "# Analysis of data by GroupBy and Cmap"
   ]
  },
  {
   "cell_type": "markdown",
   "metadata": {},
   "source": [
    "###### 1.This shows the total number of heart attacks that have occured for a particular age in case of males and females. \n",
    "In the top 20 count of heart attack, males have witnessed more heart attacks for their ages."
   ]
  },
  {
   "cell_type": "code",
   "execution_count": 13,
   "metadata": {},
   "outputs": [
    {
     "data": {
      "text/html": [
       "<style  type=\"text/css\" >\n",
       "    #T_1b499b6e_160f_11ec_8086_d89c676d0792row0_col1 {\n",
       "            background-color:  #7b72b4;\n",
       "            color:  #000000;\n",
       "        }    #T_1b499b6e_160f_11ec_8086_d89c676d0792row0_col2 {\n",
       "            background-color:  #3f007d;\n",
       "            color:  #f1f1f1;\n",
       "        }    #T_1b499b6e_160f_11ec_8086_d89c676d0792row1_col1 {\n",
       "            background-color:  #827fbb;\n",
       "            color:  #000000;\n",
       "        }    #T_1b499b6e_160f_11ec_8086_d89c676d0792row1_col2 {\n",
       "            background-color:  #3f007d;\n",
       "            color:  #f1f1f1;\n",
       "        }    #T_1b499b6e_160f_11ec_8086_d89c676d0792row2_col1 {\n",
       "            background-color:  #7465ad;\n",
       "            color:  #000000;\n",
       "        }    #T_1b499b6e_160f_11ec_8086_d89c676d0792row2_col2 {\n",
       "            background-color:  #3f007d;\n",
       "            color:  #f1f1f1;\n",
       "        }    #T_1b499b6e_160f_11ec_8086_d89c676d0792row3_col1 {\n",
       "            background-color:  #b0afd4;\n",
       "            color:  #000000;\n",
       "        }    #T_1b499b6e_160f_11ec_8086_d89c676d0792row3_col2 {\n",
       "            background-color:  #53268f;\n",
       "            color:  #f1f1f1;\n",
       "        }    #T_1b499b6e_160f_11ec_8086_d89c676d0792row4_col1 {\n",
       "            background-color:  #9e9ac8;\n",
       "            color:  #000000;\n",
       "        }    #T_1b499b6e_160f_11ec_8086_d89c676d0792row4_col2 {\n",
       "            background-color:  #6950a3;\n",
       "            color:  #f1f1f1;\n",
       "        }    #T_1b499b6e_160f_11ec_8086_d89c676d0792row5_col1 {\n",
       "            background-color:  #f0eef6;\n",
       "            color:  #000000;\n",
       "        }    #T_1b499b6e_160f_11ec_8086_d89c676d0792row5_col2 {\n",
       "            background-color:  #9e9ac8;\n",
       "            color:  #000000;\n",
       "        }    #T_1b499b6e_160f_11ec_8086_d89c676d0792row6_col1 {\n",
       "            background-color:  #babadb;\n",
       "            color:  #000000;\n",
       "        }    #T_1b499b6e_160f_11ec_8086_d89c676d0792row6_col2 {\n",
       "            background-color:  #bcbddc;\n",
       "            color:  #000000;\n",
       "        }    #T_1b499b6e_160f_11ec_8086_d89c676d0792row7_col1 {\n",
       "            background-color:  #8c88bf;\n",
       "            color:  #000000;\n",
       "        }    #T_1b499b6e_160f_11ec_8086_d89c676d0792row7_col2 {\n",
       "            background-color:  #bcbddc;\n",
       "            color:  #000000;\n",
       "        }    #T_1b499b6e_160f_11ec_8086_d89c676d0792row8_col1 {\n",
       "            background-color:  #6d57a6;\n",
       "            color:  #f1f1f1;\n",
       "        }    #T_1b499b6e_160f_11ec_8086_d89c676d0792row8_col2 {\n",
       "            background-color:  #dadaeb;\n",
       "            color:  #000000;\n",
       "        }    #T_1b499b6e_160f_11ec_8086_d89c676d0792row9_col1 {\n",
       "            background-color:  #52238d;\n",
       "            color:  #f1f1f1;\n",
       "        }    #T_1b499b6e_160f_11ec_8086_d89c676d0792row9_col2 {\n",
       "            background-color:  #dadaeb;\n",
       "            color:  #000000;\n",
       "        }    #T_1b499b6e_160f_11ec_8086_d89c676d0792row10_col1 {\n",
       "            background-color:  #603e9a;\n",
       "            color:  #f1f1f1;\n",
       "        }    #T_1b499b6e_160f_11ec_8086_d89c676d0792row10_col2 {\n",
       "            background-color:  #dadaeb;\n",
       "            color:  #000000;\n",
       "        }    #T_1b499b6e_160f_11ec_8086_d89c676d0792row11_col1 {\n",
       "            background-color:  #f8f7fb;\n",
       "            color:  #000000;\n",
       "        }    #T_1b499b6e_160f_11ec_8086_d89c676d0792row11_col2 {\n",
       "            background-color:  #efedf5;\n",
       "            color:  #000000;\n",
       "        }    #T_1b499b6e_160f_11ec_8086_d89c676d0792row12_col1 {\n",
       "            background-color:  #d6d6e9;\n",
       "            color:  #000000;\n",
       "        }    #T_1b499b6e_160f_11ec_8086_d89c676d0792row12_col2 {\n",
       "            background-color:  #efedf5;\n",
       "            color:  #000000;\n",
       "        }    #T_1b499b6e_160f_11ec_8086_d89c676d0792row13_col1 {\n",
       "            background-color:  #674ba0;\n",
       "            color:  #f1f1f1;\n",
       "        }    #T_1b499b6e_160f_11ec_8086_d89c676d0792row13_col2 {\n",
       "            background-color:  #efedf5;\n",
       "            color:  #000000;\n",
       "        }    #T_1b499b6e_160f_11ec_8086_d89c676d0792row14_col1 {\n",
       "            background-color:  #f4f3f8;\n",
       "            color:  #000000;\n",
       "        }    #T_1b499b6e_160f_11ec_8086_d89c676d0792row14_col2 {\n",
       "            background-color:  #efedf5;\n",
       "            color:  #000000;\n",
       "        }    #T_1b499b6e_160f_11ec_8086_d89c676d0792row15_col1 {\n",
       "            background-color:  #3f007d;\n",
       "            color:  #f1f1f1;\n",
       "        }    #T_1b499b6e_160f_11ec_8086_d89c676d0792row15_col2 {\n",
       "            background-color:  #efedf5;\n",
       "            color:  #000000;\n",
       "        }    #T_1b499b6e_160f_11ec_8086_d89c676d0792row16_col1 {\n",
       "            background-color:  #7b72b4;\n",
       "            color:  #000000;\n",
       "        }    #T_1b499b6e_160f_11ec_8086_d89c676d0792row16_col2 {\n",
       "            background-color:  #efedf5;\n",
       "            color:  #000000;\n",
       "        }    #T_1b499b6e_160f_11ec_8086_d89c676d0792row17_col1 {\n",
       "            background-color:  #fcfbfd;\n",
       "            color:  #000000;\n",
       "        }    #T_1b499b6e_160f_11ec_8086_d89c676d0792row17_col2 {\n",
       "            background-color:  #efedf5;\n",
       "            color:  #000000;\n",
       "        }    #T_1b499b6e_160f_11ec_8086_d89c676d0792row18_col1 {\n",
       "            background-color:  #593093;\n",
       "            color:  #f1f1f1;\n",
       "        }    #T_1b499b6e_160f_11ec_8086_d89c676d0792row18_col2 {\n",
       "            background-color:  #fcfbfd;\n",
       "            color:  #000000;\n",
       "        }    #T_1b499b6e_160f_11ec_8086_d89c676d0792row19_col1 {\n",
       "            background-color:  #a7a4ce;\n",
       "            color:  #000000;\n",
       "        }    #T_1b499b6e_160f_11ec_8086_d89c676d0792row19_col2 {\n",
       "            background-color:  #fcfbfd;\n",
       "            color:  #000000;\n",
       "        }</style><table id=\"T_1b499b6e_160f_11ec_8086_d89c676d0792\" ><thead>    <tr>        <th class=\"blank level0\" ></th>        <th class=\"col_heading level0 col0\" >Sex</th>        <th class=\"col_heading level0 col1\" >Age</th>        <th class=\"col_heading level0 col2\" >Heart_attack</th>    </tr></thead><tbody>\n",
       "                <tr>\n",
       "                        <th id=\"T_1b499b6e_160f_11ec_8086_d89c676d0792level0_row0\" class=\"row_heading level0 row0\" >59</th>\n",
       "                        <td id=\"T_1b499b6e_160f_11ec_8086_d89c676d0792row0_col0\" class=\"data row0 col0\" >Male</td>\n",
       "                        <td id=\"T_1b499b6e_160f_11ec_8086_d89c676d0792row0_col1\" class=\"data row0 col1\" >58</td>\n",
       "                        <td id=\"T_1b499b6e_160f_11ec_8086_d89c676d0792row0_col2\" class=\"data row0 col2\" >13</td>\n",
       "            </tr>\n",
       "            <tr>\n",
       "                        <th id=\"T_1b499b6e_160f_11ec_8086_d89c676d0792level0_row1\" class=\"row_heading level0 row1\" >58</th>\n",
       "                        <td id=\"T_1b499b6e_160f_11ec_8086_d89c676d0792row1_col0\" class=\"data row1 col0\" >Male</td>\n",
       "                        <td id=\"T_1b499b6e_160f_11ec_8086_d89c676d0792row1_col1\" class=\"data row1 col1\" >57</td>\n",
       "                        <td id=\"T_1b499b6e_160f_11ec_8086_d89c676d0792row1_col2\" class=\"data row1 col2\" >13</td>\n",
       "            </tr>\n",
       "            <tr>\n",
       "                        <th id=\"T_1b499b6e_160f_11ec_8086_d89c676d0792level0_row2\" class=\"row_heading level0 row2\" >60</th>\n",
       "                        <td id=\"T_1b499b6e_160f_11ec_8086_d89c676d0792row2_col0\" class=\"data row2 col0\" >Male</td>\n",
       "                        <td id=\"T_1b499b6e_160f_11ec_8086_d89c676d0792row2_col1\" class=\"data row2 col1\" >59</td>\n",
       "                        <td id=\"T_1b499b6e_160f_11ec_8086_d89c676d0792row2_col2\" class=\"data row2 col2\" >13</td>\n",
       "            </tr>\n",
       "            <tr>\n",
       "                        <th id=\"T_1b499b6e_160f_11ec_8086_d89c676d0792level0_row3\" class=\"row_heading level0 row3\" >53</th>\n",
       "                        <td id=\"T_1b499b6e_160f_11ec_8086_d89c676d0792row3_col0\" class=\"data row3 col0\" >Male</td>\n",
       "                        <td id=\"T_1b499b6e_160f_11ec_8086_d89c676d0792row3_col1\" class=\"data row3 col1\" >52</td>\n",
       "                        <td id=\"T_1b499b6e_160f_11ec_8086_d89c676d0792row3_col2\" class=\"data row3 col2\" >12</td>\n",
       "            </tr>\n",
       "            <tr>\n",
       "                        <th id=\"T_1b499b6e_160f_11ec_8086_d89c676d0792level0_row4\" class=\"row_heading level0 row4\" >55</th>\n",
       "                        <td id=\"T_1b499b6e_160f_11ec_8086_d89c676d0792row4_col0\" class=\"data row4 col0\" >Male</td>\n",
       "                        <td id=\"T_1b499b6e_160f_11ec_8086_d89c676d0792row4_col1\" class=\"data row4 col1\" >54</td>\n",
       "                        <td id=\"T_1b499b6e_160f_11ec_8086_d89c676d0792row4_col2\" class=\"data row4 col2\" >11</td>\n",
       "            </tr>\n",
       "            <tr>\n",
       "                        <th id=\"T_1b499b6e_160f_11ec_8086_d89c676d0792level0_row5\" class=\"row_heading level0 row5\" >45</th>\n",
       "                        <td id=\"T_1b499b6e_160f_11ec_8086_d89c676d0792row5_col0\" class=\"data row5 col0\" >Male</td>\n",
       "                        <td id=\"T_1b499b6e_160f_11ec_8086_d89c676d0792row5_col1\" class=\"data row5 col1\" >44</td>\n",
       "                        <td id=\"T_1b499b6e_160f_11ec_8086_d89c676d0792row5_col2\" class=\"data row5 col2\" >9</td>\n",
       "            </tr>\n",
       "            <tr>\n",
       "                        <th id=\"T_1b499b6e_160f_11ec_8086_d89c676d0792level0_row6\" class=\"row_heading level0 row6\" >52</th>\n",
       "                        <td id=\"T_1b499b6e_160f_11ec_8086_d89c676d0792row6_col0\" class=\"data row6 col0\" >Male</td>\n",
       "                        <td id=\"T_1b499b6e_160f_11ec_8086_d89c676d0792row6_col1\" class=\"data row6 col1\" >51</td>\n",
       "                        <td id=\"T_1b499b6e_160f_11ec_8086_d89c676d0792row6_col2\" class=\"data row6 col2\" >8</td>\n",
       "            </tr>\n",
       "            <tr>\n",
       "                        <th id=\"T_1b499b6e_160f_11ec_8086_d89c676d0792level0_row7\" class=\"row_heading level0 row7\" >57</th>\n",
       "                        <td id=\"T_1b499b6e_160f_11ec_8086_d89c676d0792row7_col0\" class=\"data row7 col0\" >Male</td>\n",
       "                        <td id=\"T_1b499b6e_160f_11ec_8086_d89c676d0792row7_col1\" class=\"data row7 col1\" >56</td>\n",
       "                        <td id=\"T_1b499b6e_160f_11ec_8086_d89c676d0792row7_col2\" class=\"data row7 col2\" >8</td>\n",
       "            </tr>\n",
       "            <tr>\n",
       "                        <th id=\"T_1b499b6e_160f_11ec_8086_d89c676d0792level0_row8\" class=\"row_heading level0 row8\" >61</th>\n",
       "                        <td id=\"T_1b499b6e_160f_11ec_8086_d89c676d0792row8_col0\" class=\"data row8 col0\" >Male</td>\n",
       "                        <td id=\"T_1b499b6e_160f_11ec_8086_d89c676d0792row8_col1\" class=\"data row8 col1\" >60</td>\n",
       "                        <td id=\"T_1b499b6e_160f_11ec_8086_d89c676d0792row8_col2\" class=\"data row8 col2\" >7</td>\n",
       "            </tr>\n",
       "            <tr>\n",
       "                        <th id=\"T_1b499b6e_160f_11ec_8086_d89c676d0792level0_row9\" class=\"row_heading level0 row9\" >65</th>\n",
       "                        <td id=\"T_1b499b6e_160f_11ec_8086_d89c676d0792row9_col0\" class=\"data row9 col0\" >Male</td>\n",
       "                        <td id=\"T_1b499b6e_160f_11ec_8086_d89c676d0792row9_col1\" class=\"data row9 col1\" >64</td>\n",
       "                        <td id=\"T_1b499b6e_160f_11ec_8086_d89c676d0792row9_col2\" class=\"data row9 col2\" >7</td>\n",
       "            </tr>\n",
       "            <tr>\n",
       "                        <th id=\"T_1b499b6e_160f_11ec_8086_d89c676d0792level0_row10\" class=\"row_heading level0 row10\" >24</th>\n",
       "                        <td id=\"T_1b499b6e_160f_11ec_8086_d89c676d0792row10_col0\" class=\"data row10 col0\" >Female</td>\n",
       "                        <td id=\"T_1b499b6e_160f_11ec_8086_d89c676d0792row10_col1\" class=\"data row10 col1\" >62</td>\n",
       "                        <td id=\"T_1b499b6e_160f_11ec_8086_d89c676d0792row10_col2\" class=\"data row10 col2\" >7</td>\n",
       "            </tr>\n",
       "            <tr>\n",
       "                        <th id=\"T_1b499b6e_160f_11ec_8086_d89c676d0792level0_row11\" class=\"row_heading level0 row11\" >43</th>\n",
       "                        <td id=\"T_1b499b6e_160f_11ec_8086_d89c676d0792row11_col0\" class=\"data row11 col0\" >Male</td>\n",
       "                        <td id=\"T_1b499b6e_160f_11ec_8086_d89c676d0792row11_col1\" class=\"data row11 col1\" >42</td>\n",
       "                        <td id=\"T_1b499b6e_160f_11ec_8086_d89c676d0792row11_col2\" class=\"data row11 col2\" >6</td>\n",
       "            </tr>\n",
       "            <tr>\n",
       "                        <th id=\"T_1b499b6e_160f_11ec_8086_d89c676d0792level0_row12\" class=\"row_heading level0 row12\" >49</th>\n",
       "                        <td id=\"T_1b499b6e_160f_11ec_8086_d89c676d0792row12_col0\" class=\"data row12 col0\" >Male</td>\n",
       "                        <td id=\"T_1b499b6e_160f_11ec_8086_d89c676d0792row12_col1\" class=\"data row12 col1\" >48</td>\n",
       "                        <td id=\"T_1b499b6e_160f_11ec_8086_d89c676d0792row12_col2\" class=\"data row12 col2\" >6</td>\n",
       "            </tr>\n",
       "            <tr>\n",
       "                        <th id=\"T_1b499b6e_160f_11ec_8086_d89c676d0792level0_row13\" class=\"row_heading level0 row13\" >62</th>\n",
       "                        <td id=\"T_1b499b6e_160f_11ec_8086_d89c676d0792row13_col0\" class=\"data row13 col0\" >Male</td>\n",
       "                        <td id=\"T_1b499b6e_160f_11ec_8086_d89c676d0792row13_col1\" class=\"data row13 col1\" >61</td>\n",
       "                        <td id=\"T_1b499b6e_160f_11ec_8086_d89c676d0792row13_col2\" class=\"data row13 col2\" >6</td>\n",
       "            </tr>\n",
       "            <tr>\n",
       "                        <th id=\"T_1b499b6e_160f_11ec_8086_d89c676d0792level0_row14\" class=\"row_heading level0 row14\" >44</th>\n",
       "                        <td id=\"T_1b499b6e_160f_11ec_8086_d89c676d0792row14_col0\" class=\"data row14 col0\" >Male</td>\n",
       "                        <td id=\"T_1b499b6e_160f_11ec_8086_d89c676d0792row14_col1\" class=\"data row14 col1\" >43</td>\n",
       "                        <td id=\"T_1b499b6e_160f_11ec_8086_d89c676d0792row14_col2\" class=\"data row14 col2\" >6</td>\n",
       "            </tr>\n",
       "            <tr>\n",
       "                        <th id=\"T_1b499b6e_160f_11ec_8086_d89c676d0792level0_row15\" class=\"row_heading level0 row15\" >68</th>\n",
       "                        <td id=\"T_1b499b6e_160f_11ec_8086_d89c676d0792row15_col0\" class=\"data row15 col0\" >Male</td>\n",
       "                        <td id=\"T_1b499b6e_160f_11ec_8086_d89c676d0792row15_col1\" class=\"data row15 col1\" >67</td>\n",
       "                        <td id=\"T_1b499b6e_160f_11ec_8086_d89c676d0792row15_col2\" class=\"data row15 col2\" >6</td>\n",
       "            </tr>\n",
       "            <tr>\n",
       "                        <th id=\"T_1b499b6e_160f_11ec_8086_d89c676d0792level0_row16\" class=\"row_heading level0 row16\" >20</th>\n",
       "                        <td id=\"T_1b499b6e_160f_11ec_8086_d89c676d0792row16_col0\" class=\"data row16 col0\" >Female</td>\n",
       "                        <td id=\"T_1b499b6e_160f_11ec_8086_d89c676d0792row16_col1\" class=\"data row16 col1\" >58</td>\n",
       "                        <td id=\"T_1b499b6e_160f_11ec_8086_d89c676d0792row16_col2\" class=\"data row16 col2\" >6</td>\n",
       "            </tr>\n",
       "            <tr>\n",
       "                        <th id=\"T_1b499b6e_160f_11ec_8086_d89c676d0792level0_row17\" class=\"row_heading level0 row17\" >42</th>\n",
       "                        <td id=\"T_1b499b6e_160f_11ec_8086_d89c676d0792row17_col0\" class=\"data row17 col0\" >Male</td>\n",
       "                        <td id=\"T_1b499b6e_160f_11ec_8086_d89c676d0792row17_col1\" class=\"data row17 col1\" >41</td>\n",
       "                        <td id=\"T_1b499b6e_160f_11ec_8086_d89c676d0792row17_col2\" class=\"data row17 col2\" >6</td>\n",
       "            </tr>\n",
       "            <tr>\n",
       "                        <th id=\"T_1b499b6e_160f_11ec_8086_d89c676d0792level0_row18\" class=\"row_heading level0 row18\" >25</th>\n",
       "                        <td id=\"T_1b499b6e_160f_11ec_8086_d89c676d0792row18_col0\" class=\"data row18 col0\" >Female</td>\n",
       "                        <td id=\"T_1b499b6e_160f_11ec_8086_d89c676d0792row18_col1\" class=\"data row18 col1\" >63</td>\n",
       "                        <td id=\"T_1b499b6e_160f_11ec_8086_d89c676d0792row18_col2\" class=\"data row18 col2\" >5</td>\n",
       "            </tr>\n",
       "            <tr>\n",
       "                        <th id=\"T_1b499b6e_160f_11ec_8086_d89c676d0792level0_row19\" class=\"row_heading level0 row19\" >54</th>\n",
       "                        <td id=\"T_1b499b6e_160f_11ec_8086_d89c676d0792row19_col0\" class=\"data row19 col0\" >Male</td>\n",
       "                        <td id=\"T_1b499b6e_160f_11ec_8086_d89c676d0792row19_col1\" class=\"data row19 col1\" >53</td>\n",
       "                        <td id=\"T_1b499b6e_160f_11ec_8086_d89c676d0792row19_col2\" class=\"data row19 col2\" >5</td>\n",
       "            </tr>\n",
       "    </tbody></table>"
      ],
      "text/plain": [
       "<pandas.io.formats.style.Styler at 0xb3e46d0>"
      ]
     },
     "execution_count": 13,
     "metadata": {},
     "output_type": "execute_result"
    }
   ],
   "source": [
    "s= df1.groupby(['Sex','Age'])['Heart_attack'].count().reset_index().sort_values(by='Heart_attack',ascending=False)\n",
    "s.head(20).style.background_gradient(cmap='Purples')"
   ]
  },
  {
   "cell_type": "markdown",
   "metadata": {},
   "source": [
    "##### 2. The Males having chest pain type 0 suffered the most heart attacks and type 2 the second highest. This trend is same for females."
   ]
  },
  {
   "cell_type": "code",
   "execution_count": 14,
   "metadata": {},
   "outputs": [
    {
     "data": {
      "text/html": [
       "<style  type=\"text/css\" >\n",
       "    #T_1dc79524_160f_11ec_970a_d89c676d0792row0_col1 {\n",
       "            background-color:  #f7fbff;\n",
       "            color:  #000000;\n",
       "        }    #T_1dc79524_160f_11ec_970a_d89c676d0792row0_col2 {\n",
       "            background-color:  #08306b;\n",
       "            color:  #f1f1f1;\n",
       "        }    #T_1dc79524_160f_11ec_970a_d89c676d0792row1_col1 {\n",
       "            background-color:  #3787c0;\n",
       "            color:  #000000;\n",
       "        }    #T_1dc79524_160f_11ec_970a_d89c676d0792row1_col2 {\n",
       "            background-color:  #74b3d8;\n",
       "            color:  #000000;\n",
       "        }    #T_1dc79524_160f_11ec_970a_d89c676d0792row2_col1 {\n",
       "            background-color:  #f7fbff;\n",
       "            color:  #000000;\n",
       "        }    #T_1dc79524_160f_11ec_970a_d89c676d0792row2_col2 {\n",
       "            background-color:  #a6cee4;\n",
       "            color:  #000000;\n",
       "        }    #T_1dc79524_160f_11ec_970a_d89c676d0792row3_col1 {\n",
       "            background-color:  #3787c0;\n",
       "            color:  #000000;\n",
       "        }    #T_1dc79524_160f_11ec_970a_d89c676d0792row3_col2 {\n",
       "            background-color:  #b3d3e8;\n",
       "            color:  #000000;\n",
       "        }    #T_1dc79524_160f_11ec_970a_d89c676d0792row4_col1 {\n",
       "            background-color:  #abd0e6;\n",
       "            color:  #000000;\n",
       "        }    #T_1dc79524_160f_11ec_970a_d89c676d0792row4_col2 {\n",
       "            background-color:  #bdd7ec;\n",
       "            color:  #000000;\n",
       "        }    #T_1dc79524_160f_11ec_970a_d89c676d0792row5_col1 {\n",
       "            background-color:  #08306b;\n",
       "            color:  #f1f1f1;\n",
       "        }    #T_1dc79524_160f_11ec_970a_d89c676d0792row5_col2 {\n",
       "            background-color:  #d9e8f5;\n",
       "            color:  #000000;\n",
       "        }    #T_1dc79524_160f_11ec_970a_d89c676d0792row6_col1 {\n",
       "            background-color:  #abd0e6;\n",
       "            color:  #000000;\n",
       "        }    #T_1dc79524_160f_11ec_970a_d89c676d0792row6_col2 {\n",
       "            background-color:  #dce9f6;\n",
       "            color:  #000000;\n",
       "        }    #T_1dc79524_160f_11ec_970a_d89c676d0792row7_col1 {\n",
       "            background-color:  #08306b;\n",
       "            color:  #f1f1f1;\n",
       "        }    #T_1dc79524_160f_11ec_970a_d89c676d0792row7_col2 {\n",
       "            background-color:  #f7fbff;\n",
       "            color:  #000000;\n",
       "        }</style><table id=\"T_1dc79524_160f_11ec_970a_d89c676d0792\" ><thead>    <tr>        <th class=\"blank level0\" ></th>        <th class=\"col_heading level0 col0\" >Sex</th>        <th class=\"col_heading level0 col1\" >Chest_pain</th>        <th class=\"col_heading level0 col2\" >Heart_attack</th>    </tr></thead><tbody>\n",
       "                <tr>\n",
       "                        <th id=\"T_1dc79524_160f_11ec_970a_d89c676d0792level0_row0\" class=\"row_heading level0 row0\" >4</th>\n",
       "                        <td id=\"T_1dc79524_160f_11ec_970a_d89c676d0792row0_col0\" class=\"data row0 col0\" >Male</td>\n",
       "                        <td id=\"T_1dc79524_160f_11ec_970a_d89c676d0792row0_col1\" class=\"data row0 col1\" >0</td>\n",
       "                        <td id=\"T_1dc79524_160f_11ec_970a_d89c676d0792row0_col2\" class=\"data row0 col2\" >104</td>\n",
       "            </tr>\n",
       "            <tr>\n",
       "                        <th id=\"T_1dc79524_160f_11ec_970a_d89c676d0792level0_row1\" class=\"row_heading level0 row1\" >6</th>\n",
       "                        <td id=\"T_1dc79524_160f_11ec_970a_d89c676d0792row1_col0\" class=\"data row1 col0\" >Male</td>\n",
       "                        <td id=\"T_1dc79524_160f_11ec_970a_d89c676d0792row1_col1\" class=\"data row1 col1\" >2</td>\n",
       "                        <td id=\"T_1dc79524_160f_11ec_970a_d89c676d0792row1_col2\" class=\"data row1 col2\" >52</td>\n",
       "            </tr>\n",
       "            <tr>\n",
       "                        <th id=\"T_1dc79524_160f_11ec_970a_d89c676d0792level0_row2\" class=\"row_heading level0 row2\" >0</th>\n",
       "                        <td id=\"T_1dc79524_160f_11ec_970a_d89c676d0792row2_col0\" class=\"data row2 col0\" >Female</td>\n",
       "                        <td id=\"T_1dc79524_160f_11ec_970a_d89c676d0792row2_col1\" class=\"data row2 col1\" >0</td>\n",
       "                        <td id=\"T_1dc79524_160f_11ec_970a_d89c676d0792row2_col2\" class=\"data row2 col2\" >39</td>\n",
       "            </tr>\n",
       "            <tr>\n",
       "                        <th id=\"T_1dc79524_160f_11ec_970a_d89c676d0792level0_row3\" class=\"row_heading level0 row3\" >2</th>\n",
       "                        <td id=\"T_1dc79524_160f_11ec_970a_d89c676d0792row3_col0\" class=\"data row3 col0\" >Female</td>\n",
       "                        <td id=\"T_1dc79524_160f_11ec_970a_d89c676d0792row3_col1\" class=\"data row3 col1\" >2</td>\n",
       "                        <td id=\"T_1dc79524_160f_11ec_970a_d89c676d0792row3_col2\" class=\"data row3 col2\" >35</td>\n",
       "            </tr>\n",
       "            <tr>\n",
       "                        <th id=\"T_1dc79524_160f_11ec_970a_d89c676d0792level0_row4\" class=\"row_heading level0 row4\" >5</th>\n",
       "                        <td id=\"T_1dc79524_160f_11ec_970a_d89c676d0792row4_col0\" class=\"data row4 col0\" >Male</td>\n",
       "                        <td id=\"T_1dc79524_160f_11ec_970a_d89c676d0792row4_col1\" class=\"data row4 col1\" >1</td>\n",
       "                        <td id=\"T_1dc79524_160f_11ec_970a_d89c676d0792row4_col2\" class=\"data row4 col2\" >32</td>\n",
       "            </tr>\n",
       "            <tr>\n",
       "                        <th id=\"T_1dc79524_160f_11ec_970a_d89c676d0792level0_row5\" class=\"row_heading level0 row5\" >7</th>\n",
       "                        <td id=\"T_1dc79524_160f_11ec_970a_d89c676d0792row5_col0\" class=\"data row5 col0\" >Male</td>\n",
       "                        <td id=\"T_1dc79524_160f_11ec_970a_d89c676d0792row5_col1\" class=\"data row5 col1\" >3</td>\n",
       "                        <td id=\"T_1dc79524_160f_11ec_970a_d89c676d0792row5_col2\" class=\"data row5 col2\" >19</td>\n",
       "            </tr>\n",
       "            <tr>\n",
       "                        <th id=\"T_1dc79524_160f_11ec_970a_d89c676d0792level0_row6\" class=\"row_heading level0 row6\" >1</th>\n",
       "                        <td id=\"T_1dc79524_160f_11ec_970a_d89c676d0792row6_col0\" class=\"data row6 col0\" >Female</td>\n",
       "                        <td id=\"T_1dc79524_160f_11ec_970a_d89c676d0792row6_col1\" class=\"data row6 col1\" >1</td>\n",
       "                        <td id=\"T_1dc79524_160f_11ec_970a_d89c676d0792row6_col2\" class=\"data row6 col2\" >18</td>\n",
       "            </tr>\n",
       "            <tr>\n",
       "                        <th id=\"T_1dc79524_160f_11ec_970a_d89c676d0792level0_row7\" class=\"row_heading level0 row7\" >3</th>\n",
       "                        <td id=\"T_1dc79524_160f_11ec_970a_d89c676d0792row7_col0\" class=\"data row7 col0\" >Female</td>\n",
       "                        <td id=\"T_1dc79524_160f_11ec_970a_d89c676d0792row7_col1\" class=\"data row7 col1\" >3</td>\n",
       "                        <td id=\"T_1dc79524_160f_11ec_970a_d89c676d0792row7_col2\" class=\"data row7 col2\" >4</td>\n",
       "            </tr>\n",
       "    </tbody></table>"
      ],
      "text/plain": [
       "<pandas.io.formats.style.Styler at 0xb3e4e50>"
      ]
     },
     "execution_count": 14,
     "metadata": {},
     "output_type": "execute_result"
    }
   ],
   "source": [
    "s= df1.groupby(['Sex','Chest_pain'])['Heart_attack'].count().reset_index().sort_values(by='Heart_attack',ascending=False)\n",
    "s.head(10).style.background_gradient(cmap='Blues')"
   ]
  },
  {
   "cell_type": "markdown",
   "metadata": {},
   "source": [
    "###### 3.The resting blood pressure and the cases of heart attack for such pressure in case of males and females."
   ]
  },
  {
   "cell_type": "code",
   "execution_count": 15,
   "metadata": {},
   "outputs": [
    {
     "data": {
      "text/html": [
       "<style  type=\"text/css\" >\n",
       "    #T_1faef3d2_160f_11ec_bb8e_d89c676d0792row0_col1 {\n",
       "            background-color:  #c7e9c0;\n",
       "            color:  #000000;\n",
       "        }    #T_1faef3d2_160f_11ec_bb8e_d89c676d0792row0_col2 {\n",
       "            background-color:  #00441b;\n",
       "            color:  #f1f1f1;\n",
       "        }    #T_1faef3d2_160f_11ec_bb8e_d89c676d0792row1_col1 {\n",
       "            background-color:  #73c476;\n",
       "            color:  #000000;\n",
       "        }    #T_1faef3d2_160f_11ec_bb8e_d89c676d0792row1_col2 {\n",
       "            background-color:  #0b7734;\n",
       "            color:  #f1f1f1;\n",
       "        }    #T_1faef3d2_160f_11ec_bb8e_d89c676d0792row2_col1 {\n",
       "            background-color:  #228a44;\n",
       "            color:  #000000;\n",
       "        }    #T_1faef3d2_160f_11ec_bb8e_d89c676d0792row2_col2 {\n",
       "            background-color:  #2a924a;\n",
       "            color:  #000000;\n",
       "        }    #T_1faef3d2_160f_11ec_bb8e_d89c676d0792row3_col1 {\n",
       "            background-color:  #f7fcf5;\n",
       "            color:  #000000;\n",
       "        }    #T_1faef3d2_160f_11ec_bb8e_d89c676d0792row3_col2 {\n",
       "            background-color:  #9cd797;\n",
       "            color:  #000000;\n",
       "        }    #T_1faef3d2_160f_11ec_bb8e_d89c676d0792row4_col1 {\n",
       "            background-color:  #73c476;\n",
       "            color:  #000000;\n",
       "        }    #T_1faef3d2_160f_11ec_bb8e_d89c676d0792row4_col2 {\n",
       "            background-color:  #dbf1d6;\n",
       "            color:  #000000;\n",
       "        }    #T_1faef3d2_160f_11ec_bb8e_d89c676d0792row5_col1 {\n",
       "            background-color:  #a0d99b;\n",
       "            color:  #000000;\n",
       "        }    #T_1faef3d2_160f_11ec_bb8e_d89c676d0792row5_col2 {\n",
       "            background-color:  #e7f6e3;\n",
       "            color:  #000000;\n",
       "        }    #T_1faef3d2_160f_11ec_bb8e_d89c676d0792row6_col1 {\n",
       "            background-color:  #228a44;\n",
       "            color:  #000000;\n",
       "        }    #T_1faef3d2_160f_11ec_bb8e_d89c676d0792row6_col2 {\n",
       "            background-color:  #eff9ec;\n",
       "            color:  #000000;\n",
       "        }    #T_1faef3d2_160f_11ec_bb8e_d89c676d0792row7_col1 {\n",
       "            background-color:  #00441b;\n",
       "            color:  #f1f1f1;\n",
       "        }    #T_1faef3d2_160f_11ec_bb8e_d89c676d0792row7_col2 {\n",
       "            background-color:  #eff9ec;\n",
       "            color:  #000000;\n",
       "        }    #T_1faef3d2_160f_11ec_bb8e_d89c676d0792row8_col1 {\n",
       "            background-color:  #c7e9c0;\n",
       "            color:  #000000;\n",
       "        }    #T_1faef3d2_160f_11ec_bb8e_d89c676d0792row8_col2 {\n",
       "            background-color:  #eff9ec;\n",
       "            color:  #000000;\n",
       "        }    #T_1faef3d2_160f_11ec_bb8e_d89c676d0792row9_col1 {\n",
       "            background-color:  #86cc85;\n",
       "            color:  #000000;\n",
       "        }    #T_1faef3d2_160f_11ec_bb8e_d89c676d0792row9_col2 {\n",
       "            background-color:  #f7fcf5;\n",
       "            color:  #000000;\n",
       "        }</style><table id=\"T_1faef3d2_160f_11ec_bb8e_d89c676d0792\" ><thead>    <tr>        <th class=\"blank level0\" ></th>        <th class=\"col_heading level0 col0\" >Sex</th>        <th class=\"col_heading level0 col1\" >Resting_blood_pressure</th>        <th class=\"col_heading level0 col2\" >Heart_attack</th>    </tr></thead><tbody>\n",
       "                <tr>\n",
       "                        <th id=\"T_1faef3d2_160f_11ec_bb8e_d89c676d0792level0_row0\" class=\"row_heading level0 row0\" >46</th>\n",
       "                        <td id=\"T_1faef3d2_160f_11ec_bb8e_d89c676d0792row0_col0\" class=\"data row0 col0\" >Male</td>\n",
       "                        <td id=\"T_1faef3d2_160f_11ec_bb8e_d89c676d0792row0_col1\" class=\"data row0 col1\" >120</td>\n",
       "                        <td id=\"T_1faef3d2_160f_11ec_bb8e_d89c676d0792row0_col2\" class=\"data row0 col2\" >27</td>\n",
       "            </tr>\n",
       "            <tr>\n",
       "                        <th id=\"T_1faef3d2_160f_11ec_bb8e_d89c676d0792level0_row1\" class=\"row_heading level0 row1\" >54</th>\n",
       "                        <td id=\"T_1faef3d2_160f_11ec_bb8e_d89c676d0792row1_col0\" class=\"data row1 col0\" >Male</td>\n",
       "                        <td id=\"T_1faef3d2_160f_11ec_bb8e_d89c676d0792row1_col1\" class=\"data row1 col1\" >130</td>\n",
       "                        <td id=\"T_1faef3d2_160f_11ec_bb8e_d89c676d0792row1_col2\" class=\"data row1 col2\" >24</td>\n",
       "            </tr>\n",
       "            <tr>\n",
       "                        <th id=\"T_1faef3d2_160f_11ec_bb8e_d89c676d0792level0_row2\" class=\"row_heading level0 row2\" >60</th>\n",
       "                        <td id=\"T_1faef3d2_160f_11ec_bb8e_d89c676d0792row2_col0\" class=\"data row2 col0\" >Male</td>\n",
       "                        <td id=\"T_1faef3d2_160f_11ec_bb8e_d89c676d0792row2_col1\" class=\"data row2 col1\" >140</td>\n",
       "                        <td id=\"T_1faef3d2_160f_11ec_bb8e_d89c676d0792row2_col2\" class=\"data row2 col2\" >22</td>\n",
       "            </tr>\n",
       "            <tr>\n",
       "                        <th id=\"T_1faef3d2_160f_11ec_bb8e_d89c676d0792level0_row3\" class=\"row_heading level0 row3\" >40</th>\n",
       "                        <td id=\"T_1faef3d2_160f_11ec_bb8e_d89c676d0792row3_col0\" class=\"data row3 col0\" >Male</td>\n",
       "                        <td id=\"T_1faef3d2_160f_11ec_bb8e_d89c676d0792row3_col1\" class=\"data row3 col1\" >110</td>\n",
       "                        <td id=\"T_1faef3d2_160f_11ec_bb8e_d89c676d0792row3_col2\" class=\"data row3 col2\" >16</td>\n",
       "            </tr>\n",
       "            <tr>\n",
       "                        <th id=\"T_1faef3d2_160f_11ec_bb8e_d89c676d0792level0_row4\" class=\"row_heading level0 row4\" >15</th>\n",
       "                        <td id=\"T_1faef3d2_160f_11ec_bb8e_d89c676d0792row4_col0\" class=\"data row4 col0\" >Female</td>\n",
       "                        <td id=\"T_1faef3d2_160f_11ec_bb8e_d89c676d0792row4_col1\" class=\"data row4 col1\" >130</td>\n",
       "                        <td id=\"T_1faef3d2_160f_11ec_bb8e_d89c676d0792row4_col2\" class=\"data row4 col2\" >12</td>\n",
       "            </tr>\n",
       "            <tr>\n",
       "                        <th id=\"T_1faef3d2_160f_11ec_bb8e_d89c676d0792level0_row5\" class=\"row_heading level0 row5\" >50</th>\n",
       "                        <td id=\"T_1faef3d2_160f_11ec_bb8e_d89c676d0792row5_col0\" class=\"data row5 col0\" >Male</td>\n",
       "                        <td id=\"T_1faef3d2_160f_11ec_bb8e_d89c676d0792row5_col1\" class=\"data row5 col1\" >125</td>\n",
       "                        <td id=\"T_1faef3d2_160f_11ec_bb8e_d89c676d0792row5_col2\" class=\"data row5 col2\" >11</td>\n",
       "            </tr>\n",
       "            <tr>\n",
       "                        <th id=\"T_1faef3d2_160f_11ec_bb8e_d89c676d0792level0_row6\" class=\"row_heading level0 row6\" >21</th>\n",
       "                        <td id=\"T_1faef3d2_160f_11ec_bb8e_d89c676d0792row6_col0\" class=\"data row6 col0\" >Female</td>\n",
       "                        <td id=\"T_1faef3d2_160f_11ec_bb8e_d89c676d0792row6_col1\" class=\"data row6 col1\" >140</td>\n",
       "                        <td id=\"T_1faef3d2_160f_11ec_bb8e_d89c676d0792row6_col2\" class=\"data row6 col2\" >10</td>\n",
       "            </tr>\n",
       "            <tr>\n",
       "                        <th id=\"T_1faef3d2_160f_11ec_bb8e_d89c676d0792level0_row7\" class=\"row_heading level0 row7\" >66</th>\n",
       "                        <td id=\"T_1faef3d2_160f_11ec_bb8e_d89c676d0792row7_col0\" class=\"data row7 col0\" >Male</td>\n",
       "                        <td id=\"T_1faef3d2_160f_11ec_bb8e_d89c676d0792row7_col1\" class=\"data row7 col1\" >150</td>\n",
       "                        <td id=\"T_1faef3d2_160f_11ec_bb8e_d89c676d0792row7_col2\" class=\"data row7 col2\" >10</td>\n",
       "            </tr>\n",
       "            <tr>\n",
       "                        <th id=\"T_1faef3d2_160f_11ec_bb8e_d89c676d0792level0_row8\" class=\"row_heading level0 row8\" >10</th>\n",
       "                        <td id=\"T_1faef3d2_160f_11ec_bb8e_d89c676d0792row8_col0\" class=\"data row8 col0\" >Female</td>\n",
       "                        <td id=\"T_1faef3d2_160f_11ec_bb8e_d89c676d0792row8_col1\" class=\"data row8 col1\" >120</td>\n",
       "                        <td id=\"T_1faef3d2_160f_11ec_bb8e_d89c676d0792row8_col2\" class=\"data row8 col2\" >10</td>\n",
       "            </tr>\n",
       "            <tr>\n",
       "                        <th id=\"T_1faef3d2_160f_11ec_bb8e_d89c676d0792level0_row9\" class=\"row_heading level0 row9\" >52</th>\n",
       "                        <td id=\"T_1faef3d2_160f_11ec_bb8e_d89c676d0792row9_col0\" class=\"data row9 col0\" >Male</td>\n",
       "                        <td id=\"T_1faef3d2_160f_11ec_bb8e_d89c676d0792row9_col1\" class=\"data row9 col1\" >128</td>\n",
       "                        <td id=\"T_1faef3d2_160f_11ec_bb8e_d89c676d0792row9_col2\" class=\"data row9 col2\" >9</td>\n",
       "            </tr>\n",
       "    </tbody></table>"
      ],
      "text/plain": [
       "<pandas.io.formats.style.Styler at 0xb07d3b0>"
      ]
     },
     "execution_count": 15,
     "metadata": {},
     "output_type": "execute_result"
    }
   ],
   "source": [
    "s= df1.groupby(['Sex','Resting_blood_pressure'])['Heart_attack'].count().reset_index().sort_values(by='Heart_attack',ascending=False)\n",
    "s.head(10).style.background_gradient(cmap='Greens')"
   ]
  },
  {
   "cell_type": "markdown",
   "metadata": {},
   "source": [
    "##### 4.Generally males having high cholesterol had higher cases of heart attacks than females at the same Cholesterol."
   ]
  },
  {
   "cell_type": "code",
   "execution_count": 16,
   "metadata": {},
   "outputs": [
    {
     "data": {
      "text/html": [
       "<style  type=\"text/css\" >\n",
       "    #T_216aa86c_160f_11ec_baef_d89c676d0792row0_col1 {\n",
       "            background-color:  #fee4d8;\n",
       "            color:  #000000;\n",
       "        }    #T_216aa86c_160f_11ec_baef_d89c676d0792row0_col2 {\n",
       "            background-color:  #67000d;\n",
       "            color:  #f1f1f1;\n",
       "        }    #T_216aa86c_160f_11ec_baef_d89c676d0792row1_col1 {\n",
       "            background-color:  #fff5f0;\n",
       "            color:  #000000;\n",
       "        }    #T_216aa86c_160f_11ec_baef_d89c676d0792row1_col2 {\n",
       "            background-color:  #fb694a;\n",
       "            color:  #000000;\n",
       "        }    #T_216aa86c_160f_11ec_baef_d89c676d0792row2_col1 {\n",
       "            background-color:  #fc8f6f;\n",
       "            color:  #000000;\n",
       "        }    #T_216aa86c_160f_11ec_baef_d89c676d0792row2_col2 {\n",
       "            background-color:  #fb694a;\n",
       "            color:  #000000;\n",
       "        }    #T_216aa86c_160f_11ec_baef_d89c676d0792row3_col1 {\n",
       "            background-color:  #fc9373;\n",
       "            color:  #000000;\n",
       "        }    #T_216aa86c_160f_11ec_baef_d89c676d0792row3_col2 {\n",
       "            background-color:  #fb694a;\n",
       "            color:  #000000;\n",
       "        }    #T_216aa86c_160f_11ec_baef_d89c676d0792row4_col1 {\n",
       "            background-color:  #67000d;\n",
       "            color:  #f1f1f1;\n",
       "        }    #T_216aa86c_160f_11ec_baef_d89c676d0792row4_col2 {\n",
       "            background-color:  #fb694a;\n",
       "            color:  #000000;\n",
       "        }    #T_216aa86c_160f_11ec_baef_d89c676d0792row5_col1 {\n",
       "            background-color:  #ea362a;\n",
       "            color:  #f1f1f1;\n",
       "        }    #T_216aa86c_160f_11ec_baef_d89c676d0792row5_col2 {\n",
       "            background-color:  #fb694a;\n",
       "            color:  #000000;\n",
       "        }    #T_216aa86c_160f_11ec_baef_d89c676d0792row6_col1 {\n",
       "            background-color:  #b11218;\n",
       "            color:  #f1f1f1;\n",
       "        }    #T_216aa86c_160f_11ec_baef_d89c676d0792row6_col2 {\n",
       "            background-color:  #fb694a;\n",
       "            color:  #000000;\n",
       "        }    #T_216aa86c_160f_11ec_baef_d89c676d0792row7_col1 {\n",
       "            background-color:  #f75c41;\n",
       "            color:  #000000;\n",
       "        }    #T_216aa86c_160f_11ec_baef_d89c676d0792row7_col2 {\n",
       "            background-color:  #fff5f0;\n",
       "            color:  #000000;\n",
       "        }    #T_216aa86c_160f_11ec_baef_d89c676d0792row8_col1 {\n",
       "            background-color:  #f96044;\n",
       "            color:  #000000;\n",
       "        }    #T_216aa86c_160f_11ec_baef_d89c676d0792row8_col2 {\n",
       "            background-color:  #fff5f0;\n",
       "            color:  #000000;\n",
       "        }    #T_216aa86c_160f_11ec_baef_d89c676d0792row9_col1 {\n",
       "            background-color:  #fb694a;\n",
       "            color:  #000000;\n",
       "        }    #T_216aa86c_160f_11ec_baef_d89c676d0792row9_col2 {\n",
       "            background-color:  #fff5f0;\n",
       "            color:  #000000;\n",
       "        }</style><table id=\"T_216aa86c_160f_11ec_baef_d89c676d0792\" ><thead>    <tr>        <th class=\"blank level0\" ></th>        <th class=\"col_heading level0 col0\" >Sex</th>        <th class=\"col_heading level0 col1\" >Cholesterol</th>        <th class=\"col_heading level0 col2\" >Heart_attack</th>    </tr></thead><tbody>\n",
       "                <tr>\n",
       "                        <th id=\"T_216aa86c_160f_11ec_baef_d89c676d0792level0_row0\" class=\"row_heading level0 row0\" >115</th>\n",
       "                        <td id=\"T_216aa86c_160f_11ec_baef_d89c676d0792row0_col0\" class=\"data row0 col0\" >Male</td>\n",
       "                        <td id=\"T_216aa86c_160f_11ec_baef_d89c676d0792row0_col1\" class=\"data row0 col1\" >212</td>\n",
       "                        <td id=\"T_216aa86c_160f_11ec_baef_d89c676d0792row0_col2\" class=\"data row0 col2\" >5</td>\n",
       "            </tr>\n",
       "            <tr>\n",
       "                        <th id=\"T_216aa86c_160f_11ec_baef_d89c676d0792level0_row1\" class=\"row_heading level0 row1\" >109</th>\n",
       "                        <td id=\"T_216aa86c_160f_11ec_baef_d89c676d0792row1_col0\" class=\"data row1 col0\" >Male</td>\n",
       "                        <td id=\"T_216aa86c_160f_11ec_baef_d89c676d0792row1_col1\" class=\"data row1 col1\" >204</td>\n",
       "                        <td id=\"T_216aa86c_160f_11ec_baef_d89c676d0792row1_col2\" class=\"data row1 col2\" >4</td>\n",
       "            </tr>\n",
       "            <tr>\n",
       "                        <th id=\"T_216aa86c_160f_11ec_baef_d89c676d0792level0_row2\" class=\"row_heading level0 row2\" >135</th>\n",
       "                        <td id=\"T_216aa86c_160f_11ec_baef_d89c676d0792row2_col0\" class=\"data row2 col0\" >Male</td>\n",
       "                        <td id=\"T_216aa86c_160f_11ec_baef_d89c676d0792row2_col1\" class=\"data row2 col1\" >234</td>\n",
       "                        <td id=\"T_216aa86c_160f_11ec_baef_d89c676d0792row2_col2\" class=\"data row2 col2\" >4</td>\n",
       "            </tr>\n",
       "            <tr>\n",
       "                        <th id=\"T_216aa86c_160f_11ec_baef_d89c676d0792level0_row3\" class=\"row_heading level0 row3\" >134</th>\n",
       "                        <td id=\"T_216aa86c_160f_11ec_baef_d89c676d0792row3_col0\" class=\"data row3 col0\" >Male</td>\n",
       "                        <td id=\"T_216aa86c_160f_11ec_baef_d89c676d0792row3_col1\" class=\"data row3 col1\" >233</td>\n",
       "                        <td id=\"T_216aa86c_160f_11ec_baef_d89c676d0792row3_col2\" class=\"data row3 col2\" >4</td>\n",
       "            </tr>\n",
       "            <tr>\n",
       "                        <th id=\"T_216aa86c_160f_11ec_baef_d89c676d0792level0_row4\" class=\"row_heading level0 row4\" >172</th>\n",
       "                        <td id=\"T_216aa86c_160f_11ec_baef_d89c676d0792row4_col0\" class=\"data row4 col0\" >Male</td>\n",
       "                        <td id=\"T_216aa86c_160f_11ec_baef_d89c676d0792row4_col1\" class=\"data row4 col1\" >282</td>\n",
       "                        <td id=\"T_216aa86c_160f_11ec_baef_d89c676d0792row4_col2\" class=\"data row4 col2\" >4</td>\n",
       "            </tr>\n",
       "            <tr>\n",
       "                        <th id=\"T_216aa86c_160f_11ec_baef_d89c676d0792level0_row5\" class=\"row_heading level0 row5\" >150</th>\n",
       "                        <td id=\"T_216aa86c_160f_11ec_baef_d89c676d0792row5_col0\" class=\"data row5 col0\" >Male</td>\n",
       "                        <td id=\"T_216aa86c_160f_11ec_baef_d89c676d0792row5_col1\" class=\"data row5 col1\" >254</td>\n",
       "                        <td id=\"T_216aa86c_160f_11ec_baef_d89c676d0792row5_col2\" class=\"data row5 col2\" >4</td>\n",
       "            </tr>\n",
       "            <tr>\n",
       "                        <th id=\"T_216aa86c_160f_11ec_baef_d89c676d0792level0_row6\" class=\"row_heading level0 row6\" >48</th>\n",
       "                        <td id=\"T_216aa86c_160f_11ec_baef_d89c676d0792row6_col0\" class=\"data row6 col0\" >Female</td>\n",
       "                        <td id=\"T_216aa86c_160f_11ec_baef_d89c676d0792row6_col1\" class=\"data row6 col1\" >269</td>\n",
       "                        <td id=\"T_216aa86c_160f_11ec_baef_d89c676d0792row6_col2\" class=\"data row6 col2\" >4</td>\n",
       "            </tr>\n",
       "            <tr>\n",
       "                        <th id=\"T_216aa86c_160f_11ec_baef_d89c676d0792level0_row7\" class=\"row_heading level0 row7\" >144</th>\n",
       "                        <td id=\"T_216aa86c_160f_11ec_baef_d89c676d0792row7_col0\" class=\"data row7 col0\" >Male</td>\n",
       "                        <td id=\"T_216aa86c_160f_11ec_baef_d89c676d0792row7_col1\" class=\"data row7 col1\" >246</td>\n",
       "                        <td id=\"T_216aa86c_160f_11ec_baef_d89c676d0792row7_col2\" class=\"data row7 col2\" >3</td>\n",
       "            </tr>\n",
       "            <tr>\n",
       "                        <th id=\"T_216aa86c_160f_11ec_baef_d89c676d0792level0_row8\" class=\"row_heading level0 row8\" >143</th>\n",
       "                        <td id=\"T_216aa86c_160f_11ec_baef_d89c676d0792row8_col0\" class=\"data row8 col0\" >Male</td>\n",
       "                        <td id=\"T_216aa86c_160f_11ec_baef_d89c676d0792row8_col1\" class=\"data row8 col1\" >245</td>\n",
       "                        <td id=\"T_216aa86c_160f_11ec_baef_d89c676d0792row8_col2\" class=\"data row8 col2\" >3</td>\n",
       "            </tr>\n",
       "            <tr>\n",
       "                        <th id=\"T_216aa86c_160f_11ec_baef_d89c676d0792level0_row9\" class=\"row_heading level0 row9\" >141</th>\n",
       "                        <td id=\"T_216aa86c_160f_11ec_baef_d89c676d0792row9_col0\" class=\"data row9 col0\" >Male</td>\n",
       "                        <td id=\"T_216aa86c_160f_11ec_baef_d89c676d0792row9_col1\" class=\"data row9 col1\" >243</td>\n",
       "                        <td id=\"T_216aa86c_160f_11ec_baef_d89c676d0792row9_col2\" class=\"data row9 col2\" >3</td>\n",
       "            </tr>\n",
       "    </tbody></table>"
      ],
      "text/plain": [
       "<pandas.io.formats.style.Styler at 0xb4bb650>"
      ]
     },
     "execution_count": 16,
     "metadata": {},
     "output_type": "execute_result"
    }
   ],
   "source": [
    "s= df1.groupby(['Sex','Cholesterol'])['Heart_attack'].count().reset_index().sort_values(by='Heart_attack',ascending=False)\n",
    "s.head(10).style.background_gradient(cmap='Reds')"
   ]
  },
  {
   "cell_type": "markdown",
   "metadata": {},
   "source": [
    "##### 5.This shows relation of Fasting blood sugar with heart attack in case of Male and Females."
   ]
  },
  {
   "cell_type": "code",
   "execution_count": 17,
   "metadata": {},
   "outputs": [
    {
     "data": {
      "text/html": [
       "<style  type=\"text/css\" >\n",
       "    #T_22d34a98_160f_11ec_ba96_d89c676d0792row0_col1 {\n",
       "            background-color:  #fff5f0;\n",
       "            color:  #000000;\n",
       "        }    #T_22d34a98_160f_11ec_ba96_d89c676d0792row0_col2 {\n",
       "            background-color:  #67000d;\n",
       "            color:  #f1f1f1;\n",
       "        }    #T_22d34a98_160f_11ec_ba96_d89c676d0792row1_col1 {\n",
       "            background-color:  #fff5f0;\n",
       "            color:  #000000;\n",
       "        }    #T_22d34a98_160f_11ec_ba96_d89c676d0792row1_col2 {\n",
       "            background-color:  #fb7c5c;\n",
       "            color:  #000000;\n",
       "        }    #T_22d34a98_160f_11ec_ba96_d89c676d0792row2_col1 {\n",
       "            background-color:  #67000d;\n",
       "            color:  #f1f1f1;\n",
       "        }    #T_22d34a98_160f_11ec_ba96_d89c676d0792row2_col2 {\n",
       "            background-color:  #fedfd0;\n",
       "            color:  #000000;\n",
       "        }    #T_22d34a98_160f_11ec_ba96_d89c676d0792row3_col1 {\n",
       "            background-color:  #67000d;\n",
       "            color:  #f1f1f1;\n",
       "        }    #T_22d34a98_160f_11ec_ba96_d89c676d0792row3_col2 {\n",
       "            background-color:  #fff5f0;\n",
       "            color:  #000000;\n",
       "        }</style><table id=\"T_22d34a98_160f_11ec_ba96_d89c676d0792\" ><thead>    <tr>        <th class=\"blank level0\" ></th>        <th class=\"col_heading level0 col0\" >Sex</th>        <th class=\"col_heading level0 col1\" >Fasting_blood_sugar</th>        <th class=\"col_heading level0 col2\" >Heart_attack</th>    </tr></thead><tbody>\n",
       "                <tr>\n",
       "                        <th id=\"T_22d34a98_160f_11ec_ba96_d89c676d0792level0_row0\" class=\"row_heading level0 row0\" >2</th>\n",
       "                        <td id=\"T_22d34a98_160f_11ec_ba96_d89c676d0792row0_col0\" class=\"data row0 col0\" >Male</td>\n",
       "                        <td id=\"T_22d34a98_160f_11ec_ba96_d89c676d0792row0_col1\" class=\"data row0 col1\" >0</td>\n",
       "                        <td id=\"T_22d34a98_160f_11ec_ba96_d89c676d0792row0_col2\" class=\"data row0 col2\" >174</td>\n",
       "            </tr>\n",
       "            <tr>\n",
       "                        <th id=\"T_22d34a98_160f_11ec_ba96_d89c676d0792level0_row1\" class=\"row_heading level0 row1\" >0</th>\n",
       "                        <td id=\"T_22d34a98_160f_11ec_ba96_d89c676d0792row1_col0\" class=\"data row1 col0\" >Female</td>\n",
       "                        <td id=\"T_22d34a98_160f_11ec_ba96_d89c676d0792row1_col1\" class=\"data row1 col1\" >0</td>\n",
       "                        <td id=\"T_22d34a98_160f_11ec_ba96_d89c676d0792row1_col2\" class=\"data row1 col2\" >84</td>\n",
       "            </tr>\n",
       "            <tr>\n",
       "                        <th id=\"T_22d34a98_160f_11ec_ba96_d89c676d0792level0_row2\" class=\"row_heading level0 row2\" >3</th>\n",
       "                        <td id=\"T_22d34a98_160f_11ec_ba96_d89c676d0792row2_col0\" class=\"data row2 col0\" >Male</td>\n",
       "                        <td id=\"T_22d34a98_160f_11ec_ba96_d89c676d0792row2_col1\" class=\"data row2 col1\" >1</td>\n",
       "                        <td id=\"T_22d34a98_160f_11ec_ba96_d89c676d0792row2_col2\" class=\"data row2 col2\" >33</td>\n",
       "            </tr>\n",
       "            <tr>\n",
       "                        <th id=\"T_22d34a98_160f_11ec_ba96_d89c676d0792level0_row3\" class=\"row_heading level0 row3\" >1</th>\n",
       "                        <td id=\"T_22d34a98_160f_11ec_ba96_d89c676d0792row3_col0\" class=\"data row3 col0\" >Female</td>\n",
       "                        <td id=\"T_22d34a98_160f_11ec_ba96_d89c676d0792row3_col1\" class=\"data row3 col1\" >1</td>\n",
       "                        <td id=\"T_22d34a98_160f_11ec_ba96_d89c676d0792row3_col2\" class=\"data row3 col2\" >12</td>\n",
       "            </tr>\n",
       "    </tbody></table>"
      ],
      "text/plain": [
       "<pandas.io.formats.style.Styler at 0xb4bb910>"
      ]
     },
     "execution_count": 17,
     "metadata": {},
     "output_type": "execute_result"
    }
   ],
   "source": [
    "s= df1.groupby(['Sex','Fasting_blood_sugar'])['Heart_attack'].count().reset_index().sort_values(by='Heart_attack',ascending=False)\n",
    "s.head(10).style.background_gradient(cmap='Reds')"
   ]
  },
  {
   "cell_type": "markdown",
   "metadata": {},
   "source": [
    "##### 6.This shows the lower the ECG Results, the more cases of heart attack occurred."
   ]
  },
  {
   "cell_type": "code",
   "execution_count": 18,
   "metadata": {},
   "outputs": [
    {
     "data": {
      "text/html": [
       "<style  type=\"text/css\" >\n",
       "    #T_242b5414_160f_11ec_b2b1_d89c676d0792row0_col1 {\n",
       "            background-color:  #ffffff;\n",
       "            color:  #000000;\n",
       "        }    #T_242b5414_160f_11ec_b2b1_d89c676d0792row0_col2 {\n",
       "            background-color:  #000000;\n",
       "            color:  #f1f1f1;\n",
       "        }    #T_242b5414_160f_11ec_b2b1_d89c676d0792row1_col1 {\n",
       "            background-color:  #959595;\n",
       "            color:  #000000;\n",
       "        }    #T_242b5414_160f_11ec_b2b1_d89c676d0792row1_col2 {\n",
       "            background-color:  #000000;\n",
       "            color:  #f1f1f1;\n",
       "        }    #T_242b5414_160f_11ec_b2b1_d89c676d0792row2_col1 {\n",
       "            background-color:  #959595;\n",
       "            color:  #000000;\n",
       "        }    #T_242b5414_160f_11ec_b2b1_d89c676d0792row2_col2 {\n",
       "            background-color:  #9f9f9f;\n",
       "            color:  #000000;\n",
       "        }    #T_242b5414_160f_11ec_b2b1_d89c676d0792row3_col1 {\n",
       "            background-color:  #ffffff;\n",
       "            color:  #000000;\n",
       "        }    #T_242b5414_160f_11ec_b2b1_d89c676d0792row3_col2 {\n",
       "            background-color:  #afafaf;\n",
       "            color:  #000000;\n",
       "        }    #T_242b5414_160f_11ec_b2b1_d89c676d0792row4_col1 {\n",
       "            background-color:  #000000;\n",
       "            color:  #f1f1f1;\n",
       "        }    #T_242b5414_160f_11ec_b2b1_d89c676d0792row4_col2 {\n",
       "            background-color:  #fdfdfd;\n",
       "            color:  #000000;\n",
       "        }    #T_242b5414_160f_11ec_b2b1_d89c676d0792row5_col1 {\n",
       "            background-color:  #000000;\n",
       "            color:  #f1f1f1;\n",
       "        }    #T_242b5414_160f_11ec_b2b1_d89c676d0792row5_col2 {\n",
       "            background-color:  #ffffff;\n",
       "            color:  #000000;\n",
       "        }</style><table id=\"T_242b5414_160f_11ec_b2b1_d89c676d0792\" ><thead>    <tr>        <th class=\"blank level0\" ></th>        <th class=\"col_heading level0 col0\" >Sex</th>        <th class=\"col_heading level0 col1\" >ECG_results</th>        <th class=\"col_heading level0 col2\" >Heart_attack</th>    </tr></thead><tbody>\n",
       "                <tr>\n",
       "                        <th id=\"T_242b5414_160f_11ec_b2b1_d89c676d0792level0_row0\" class=\"row_heading level0 row0\" >3</th>\n",
       "                        <td id=\"T_242b5414_160f_11ec_b2b1_d89c676d0792row0_col0\" class=\"data row0 col0\" >Male</td>\n",
       "                        <td id=\"T_242b5414_160f_11ec_b2b1_d89c676d0792row0_col1\" class=\"data row0 col1\" >0</td>\n",
       "                        <td id=\"T_242b5414_160f_11ec_b2b1_d89c676d0792row0_col2\" class=\"data row0 col2\" >103</td>\n",
       "            </tr>\n",
       "            <tr>\n",
       "                        <th id=\"T_242b5414_160f_11ec_b2b1_d89c676d0792level0_row1\" class=\"row_heading level0 row1\" >4</th>\n",
       "                        <td id=\"T_242b5414_160f_11ec_b2b1_d89c676d0792row1_col0\" class=\"data row1 col0\" >Male</td>\n",
       "                        <td id=\"T_242b5414_160f_11ec_b2b1_d89c676d0792row1_col1\" class=\"data row1 col1\" >1</td>\n",
       "                        <td id=\"T_242b5414_160f_11ec_b2b1_d89c676d0792row1_col2\" class=\"data row1 col2\" >103</td>\n",
       "            </tr>\n",
       "            <tr>\n",
       "                        <th id=\"T_242b5414_160f_11ec_b2b1_d89c676d0792level0_row2\" class=\"row_heading level0 row2\" >1</th>\n",
       "                        <td id=\"T_242b5414_160f_11ec_b2b1_d89c676d0792row2_col0\" class=\"data row2 col0\" >Female</td>\n",
       "                        <td id=\"T_242b5414_160f_11ec_b2b1_d89c676d0792row2_col1\" class=\"data row2 col1\" >1</td>\n",
       "                        <td id=\"T_242b5414_160f_11ec_b2b1_d89c676d0792row2_col2\" class=\"data row2 col2\" >49</td>\n",
       "            </tr>\n",
       "            <tr>\n",
       "                        <th id=\"T_242b5414_160f_11ec_b2b1_d89c676d0792level0_row3\" class=\"row_heading level0 row3\" >0</th>\n",
       "                        <td id=\"T_242b5414_160f_11ec_b2b1_d89c676d0792row3_col0\" class=\"data row3 col0\" >Female</td>\n",
       "                        <td id=\"T_242b5414_160f_11ec_b2b1_d89c676d0792row3_col1\" class=\"data row3 col1\" >0</td>\n",
       "                        <td id=\"T_242b5414_160f_11ec_b2b1_d89c676d0792row3_col2\" class=\"data row3 col2\" >44</td>\n",
       "            </tr>\n",
       "            <tr>\n",
       "                        <th id=\"T_242b5414_160f_11ec_b2b1_d89c676d0792level0_row4\" class=\"row_heading level0 row4\" >2</th>\n",
       "                        <td id=\"T_242b5414_160f_11ec_b2b1_d89c676d0792row4_col0\" class=\"data row4 col0\" >Female</td>\n",
       "                        <td id=\"T_242b5414_160f_11ec_b2b1_d89c676d0792row4_col1\" class=\"data row4 col1\" >2</td>\n",
       "                        <td id=\"T_242b5414_160f_11ec_b2b1_d89c676d0792row4_col2\" class=\"data row4 col2\" >3</td>\n",
       "            </tr>\n",
       "            <tr>\n",
       "                        <th id=\"T_242b5414_160f_11ec_b2b1_d89c676d0792level0_row5\" class=\"row_heading level0 row5\" >5</th>\n",
       "                        <td id=\"T_242b5414_160f_11ec_b2b1_d89c676d0792row5_col0\" class=\"data row5 col0\" >Male</td>\n",
       "                        <td id=\"T_242b5414_160f_11ec_b2b1_d89c676d0792row5_col1\" class=\"data row5 col1\" >2</td>\n",
       "                        <td id=\"T_242b5414_160f_11ec_b2b1_d89c676d0792row5_col2\" class=\"data row5 col2\" >1</td>\n",
       "            </tr>\n",
       "    </tbody></table>"
      ],
      "text/plain": [
       "<pandas.io.formats.style.Styler at 0xb4bbf30>"
      ]
     },
     "execution_count": 18,
     "metadata": {},
     "output_type": "execute_result"
    }
   ],
   "source": [
    "s= df1.groupby(['Sex','ECG_results'])['Heart_attack'].count().reset_index().sort_values(by='Heart_attack',ascending=False)\n",
    "s.head(10).style.background_gradient(cmap='Greys')"
   ]
  },
  {
   "cell_type": "markdown",
   "metadata": {},
   "source": [
    "##### 7.The maximum heart rate varied for heart attack and were higher for males resulting in heart attack"
   ]
  },
  {
   "cell_type": "code",
   "execution_count": 19,
   "metadata": {},
   "outputs": [
    {
     "data": {
      "text/html": [
       "<style  type=\"text/css\" >\n",
       "    #T_25905886_160f_11ec_aff2_d89c676d0792row0_col1 {\n",
       "            background-color:  #fda863;\n",
       "            color:  #000000;\n",
       "        }    #T_25905886_160f_11ec_aff2_d89c676d0792row0_col2 {\n",
       "            background-color:  #7f2704;\n",
       "            color:  #f1f1f1;\n",
       "        }    #T_25905886_160f_11ec_aff2_d89c676d0792row1_col1 {\n",
       "            background-color:  #fee2c7;\n",
       "            color:  #000000;\n",
       "        }    #T_25905886_160f_11ec_aff2_d89c676d0792row1_col2 {\n",
       "            background-color:  #7f2704;\n",
       "            color:  #f1f1f1;\n",
       "        }    #T_25905886_160f_11ec_aff2_d89c676d0792row2_col1 {\n",
       "            background-color:  #d04501;\n",
       "            color:  #f1f1f1;\n",
       "        }    #T_25905886_160f_11ec_aff2_d89c676d0792row2_col2 {\n",
       "            background-color:  #7f2704;\n",
       "            color:  #f1f1f1;\n",
       "        }    #T_25905886_160f_11ec_aff2_d89c676d0792row3_col1 {\n",
       "            background-color:  #7f2704;\n",
       "            color:  #f1f1f1;\n",
       "        }    #T_25905886_160f_11ec_aff2_d89c676d0792row3_col2 {\n",
       "            background-color:  #7f2704;\n",
       "            color:  #f1f1f1;\n",
       "        }    #T_25905886_160f_11ec_aff2_d89c676d0792row4_col1 {\n",
       "            background-color:  #fdbf86;\n",
       "            color:  #000000;\n",
       "        }    #T_25905886_160f_11ec_aff2_d89c676d0792row4_col2 {\n",
       "            background-color:  #fd8c3b;\n",
       "            color:  #000000;\n",
       "        }    #T_25905886_160f_11ec_aff2_d89c676d0792row5_col1 {\n",
       "            background-color:  #852904;\n",
       "            color:  #f1f1f1;\n",
       "        }    #T_25905886_160f_11ec_aff2_d89c676d0792row5_col2 {\n",
       "            background-color:  #fd8c3b;\n",
       "            color:  #000000;\n",
       "        }    #T_25905886_160f_11ec_aff2_d89c676d0792row6_col1 {\n",
       "            background-color:  #fb8735;\n",
       "            color:  #000000;\n",
       "        }    #T_25905886_160f_11ec_aff2_d89c676d0792row6_col2 {\n",
       "            background-color:  #fd8c3b;\n",
       "            color:  #000000;\n",
       "        }    #T_25905886_160f_11ec_aff2_d89c676d0792row7_col1 {\n",
       "            background-color:  #fff5eb;\n",
       "            color:  #000000;\n",
       "        }    #T_25905886_160f_11ec_aff2_d89c676d0792row7_col2 {\n",
       "            background-color:  #fd8c3b;\n",
       "            color:  #000000;\n",
       "        }    #T_25905886_160f_11ec_aff2_d89c676d0792row8_col1 {\n",
       "            background-color:  #ed6310;\n",
       "            color:  #000000;\n",
       "        }    #T_25905886_160f_11ec_aff2_d89c676d0792row8_col2 {\n",
       "            background-color:  #fd8c3b;\n",
       "            color:  #000000;\n",
       "        }    #T_25905886_160f_11ec_aff2_d89c676d0792row9_col1 {\n",
       "            background-color:  #c84202;\n",
       "            color:  #f1f1f1;\n",
       "        }    #T_25905886_160f_11ec_aff2_d89c676d0792row9_col2 {\n",
       "            background-color:  #fff5eb;\n",
       "            color:  #000000;\n",
       "        }</style><table id=\"T_25905886_160f_11ec_aff2_d89c676d0792\" ><thead>    <tr>        <th class=\"blank level0\" ></th>        <th class=\"col_heading level0 col0\" >Sex</th>        <th class=\"col_heading level0 col1\" >Maximum_heart_rate</th>        <th class=\"col_heading level0 col2\" >Heart_attack</th>    </tr></thead><tbody>\n",
       "                <tr>\n",
       "                        <th id=\"T_25905886_160f_11ec_aff2_d89c676d0792level0_row0\" class=\"row_heading level0 row0\" >86</th>\n",
       "                        <td id=\"T_25905886_160f_11ec_aff2_d89c676d0792row0_col0\" class=\"data row0 col0\" >Male</td>\n",
       "                        <td id=\"T_25905886_160f_11ec_aff2_d89c676d0792row0_col1\" class=\"data row0 col1\" >144</td>\n",
       "                        <td id=\"T_25905886_160f_11ec_aff2_d89c676d0792row0_col2\" class=\"data row0 col2\" >7</td>\n",
       "            </tr>\n",
       "            <tr>\n",
       "                        <th id=\"T_25905886_160f_11ec_aff2_d89c676d0792level0_row1\" class=\"row_heading level0 row1\" >77</th>\n",
       "                        <td id=\"T_25905886_160f_11ec_aff2_d89c676d0792row1_col0\" class=\"data row1 col0\" >Male</td>\n",
       "                        <td id=\"T_25905886_160f_11ec_aff2_d89c676d0792row1_col1\" class=\"data row1 col1\" >132</td>\n",
       "                        <td id=\"T_25905886_160f_11ec_aff2_d89c676d0792row1_col2\" class=\"data row1 col2\" >7</td>\n",
       "            </tr>\n",
       "            <tr>\n",
       "                        <th id=\"T_25905886_160f_11ec_aff2_d89c676d0792level0_row2\" class=\"row_heading level0 row2\" >103</th>\n",
       "                        <td id=\"T_25905886_160f_11ec_aff2_d89c676d0792row2_col0\" class=\"data row2 col0\" >Male</td>\n",
       "                        <td id=\"T_25905886_160f_11ec_aff2_d89c676d0792row2_col1\" class=\"data row2 col1\" >162</td>\n",
       "                        <td id=\"T_25905886_160f_11ec_aff2_d89c676d0792row2_col2\" class=\"data row2 col2\" >7</td>\n",
       "            </tr>\n",
       "            <tr>\n",
       "                        <th id=\"T_25905886_160f_11ec_aff2_d89c676d0792level0_row3\" class=\"row_heading level0 row3\" >113</th>\n",
       "                        <td id=\"T_25905886_160f_11ec_aff2_d89c676d0792row3_col0\" class=\"data row3 col0\" >Male</td>\n",
       "                        <td id=\"T_25905886_160f_11ec_aff2_d89c676d0792row3_col1\" class=\"data row3 col1\" >173</td>\n",
       "                        <td id=\"T_25905886_160f_11ec_aff2_d89c676d0792row3_col2\" class=\"data row3 col2\" >7</td>\n",
       "            </tr>\n",
       "            <tr>\n",
       "                        <th id=\"T_25905886_160f_11ec_aff2_d89c676d0792level0_row4\" class=\"row_heading level0 row4\" >82</th>\n",
       "                        <td id=\"T_25905886_160f_11ec_aff2_d89c676d0792row4_col0\" class=\"data row4 col0\" >Male</td>\n",
       "                        <td id=\"T_25905886_160f_11ec_aff2_d89c676d0792row4_col1\" class=\"data row4 col1\" >140</td>\n",
       "                        <td id=\"T_25905886_160f_11ec_aff2_d89c676d0792row4_col2\" class=\"data row4 col2\" >6</td>\n",
       "            </tr>\n",
       "            <tr>\n",
       "                        <th id=\"T_25905886_160f_11ec_aff2_d89c676d0792level0_row5\" class=\"row_heading level0 row5\" >42</th>\n",
       "                        <td id=\"T_25905886_160f_11ec_aff2_d89c676d0792row5_col0\" class=\"data row5 col0\" >Female</td>\n",
       "                        <td id=\"T_25905886_160f_11ec_aff2_d89c676d0792row5_col1\" class=\"data row5 col1\" >172</td>\n",
       "                        <td id=\"T_25905886_160f_11ec_aff2_d89c676d0792row5_col2\" class=\"data row5 col2\" >6</td>\n",
       "            </tr>\n",
       "            <tr>\n",
       "                        <th id=\"T_25905886_160f_11ec_aff2_d89c676d0792level0_row6\" class=\"row_heading level0 row6\" >91</th>\n",
       "                        <td id=\"T_25905886_160f_11ec_aff2_d89c676d0792row6_col0\" class=\"data row6 col0\" >Male</td>\n",
       "                        <td id=\"T_25905886_160f_11ec_aff2_d89c676d0792row6_col1\" class=\"data row6 col1\" >150</td>\n",
       "                        <td id=\"T_25905886_160f_11ec_aff2_d89c676d0792row6_col2\" class=\"data row6 col2\" >6</td>\n",
       "            </tr>\n",
       "            <tr>\n",
       "                        <th id=\"T_25905886_160f_11ec_aff2_d89c676d0792level0_row7\" class=\"row_heading level0 row7\" >70</th>\n",
       "                        <td id=\"T_25905886_160f_11ec_aff2_d89c676d0792row7_col0\" class=\"data row7 col0\" >Male</td>\n",
       "                        <td id=\"T_25905886_160f_11ec_aff2_d89c676d0792row7_col1\" class=\"data row7 col1\" >125</td>\n",
       "                        <td id=\"T_25905886_160f_11ec_aff2_d89c676d0792row7_col2\" class=\"data row7 col2\" >6</td>\n",
       "            </tr>\n",
       "            <tr>\n",
       "                        <th id=\"T_25905886_160f_11ec_aff2_d89c676d0792level0_row8\" class=\"row_heading level0 row8\" >97</th>\n",
       "                        <td id=\"T_25905886_160f_11ec_aff2_d89c676d0792row8_col0\" class=\"data row8 col0\" >Male</td>\n",
       "                        <td id=\"T_25905886_160f_11ec_aff2_d89c676d0792row8_col1\" class=\"data row8 col1\" >156</td>\n",
       "                        <td id=\"T_25905886_160f_11ec_aff2_d89c676d0792row8_col2\" class=\"data row8 col2\" >6</td>\n",
       "            </tr>\n",
       "            <tr>\n",
       "                        <th id=\"T_25905886_160f_11ec_aff2_d89c676d0792level0_row9\" class=\"row_heading level0 row9\" >34</th>\n",
       "                        <td id=\"T_25905886_160f_11ec_aff2_d89c676d0792row9_col0\" class=\"data row9 col0\" >Female</td>\n",
       "                        <td id=\"T_25905886_160f_11ec_aff2_d89c676d0792row9_col1\" class=\"data row9 col1\" >163</td>\n",
       "                        <td id=\"T_25905886_160f_11ec_aff2_d89c676d0792row9_col2\" class=\"data row9 col2\" >5</td>\n",
       "            </tr>\n",
       "    </tbody></table>"
      ],
      "text/plain": [
       "<pandas.io.formats.style.Styler at 0xb4bb870>"
      ]
     },
     "execution_count": 19,
     "metadata": {},
     "output_type": "execute_result"
    }
   ],
   "source": [
    "s= df1.groupby(['Sex','Maximum_heart_rate'])['Heart_attack'].count().reset_index().sort_values(by='Heart_attack',ascending=False)\n",
    "s.head(10).style.background_gradient(cmap='Oranges')"
   ]
  },
  {
   "cell_type": "markdown",
   "metadata": {},
   "source": [
    "##### 8.Exercise induced chest pain was higher in males and more resulted in Heart attacks."
   ]
  },
  {
   "cell_type": "code",
   "execution_count": 20,
   "metadata": {},
   "outputs": [
    {
     "data": {
      "text/html": [
       "<style  type=\"text/css\" >\n",
       "    #T_270dd478_160f_11ec_854b_d89c676d0792row0_col1 {\n",
       "            background-color:  #fcfbfd;\n",
       "            color:  #000000;\n",
       "        }    #T_270dd478_160f_11ec_854b_d89c676d0792row0_col2 {\n",
       "            background-color:  #3f007d;\n",
       "            color:  #f1f1f1;\n",
       "        }    #T_270dd478_160f_11ec_854b_d89c676d0792row1_col1 {\n",
       "            background-color:  #3f007d;\n",
       "            color:  #f1f1f1;\n",
       "        }    #T_270dd478_160f_11ec_854b_d89c676d0792row1_col2 {\n",
       "            background-color:  #9c98c7;\n",
       "            color:  #000000;\n",
       "        }    #T_270dd478_160f_11ec_854b_d89c676d0792row2_col1 {\n",
       "            background-color:  #fcfbfd;\n",
       "            color:  #000000;\n",
       "        }    #T_270dd478_160f_11ec_854b_d89c676d0792row2_col2 {\n",
       "            background-color:  #a29fcb;\n",
       "            color:  #000000;\n",
       "        }    #T_270dd478_160f_11ec_854b_d89c676d0792row3_col1 {\n",
       "            background-color:  #3f007d;\n",
       "            color:  #f1f1f1;\n",
       "        }    #T_270dd478_160f_11ec_854b_d89c676d0792row3_col2 {\n",
       "            background-color:  #fcfbfd;\n",
       "            color:  #000000;\n",
       "        }</style><table id=\"T_270dd478_160f_11ec_854b_d89c676d0792\" ><thead>    <tr>        <th class=\"blank level0\" ></th>        <th class=\"col_heading level0 col0\" >Sex</th>        <th class=\"col_heading level0 col1\" >Exercise_induced_angina</th>        <th class=\"col_heading level0 col2\" >Heart_attack</th>    </tr></thead><tbody>\n",
       "                <tr>\n",
       "                        <th id=\"T_270dd478_160f_11ec_854b_d89c676d0792level0_row0\" class=\"row_heading level0 row0\" >2</th>\n",
       "                        <td id=\"T_270dd478_160f_11ec_854b_d89c676d0792row0_col0\" class=\"data row0 col0\" >Male</td>\n",
       "                        <td id=\"T_270dd478_160f_11ec_854b_d89c676d0792row0_col1\" class=\"data row0 col1\" >0</td>\n",
       "                        <td id=\"T_270dd478_160f_11ec_854b_d89c676d0792row0_col2\" class=\"data row0 col2\" >130</td>\n",
       "            </tr>\n",
       "            <tr>\n",
       "                        <th id=\"T_270dd478_160f_11ec_854b_d89c676d0792level0_row1\" class=\"row_heading level0 row1\" >3</th>\n",
       "                        <td id=\"T_270dd478_160f_11ec_854b_d89c676d0792row1_col0\" class=\"data row1 col0\" >Male</td>\n",
       "                        <td id=\"T_270dd478_160f_11ec_854b_d89c676d0792row1_col1\" class=\"data row1 col1\" >1</td>\n",
       "                        <td id=\"T_270dd478_160f_11ec_854b_d89c676d0792row1_col2\" class=\"data row1 col2\" >77</td>\n",
       "            </tr>\n",
       "            <tr>\n",
       "                        <th id=\"T_270dd478_160f_11ec_854b_d89c676d0792level0_row2\" class=\"row_heading level0 row2\" >0</th>\n",
       "                        <td id=\"T_270dd478_160f_11ec_854b_d89c676d0792row2_col0\" class=\"data row2 col0\" >Female</td>\n",
       "                        <td id=\"T_270dd478_160f_11ec_854b_d89c676d0792row2_col1\" class=\"data row2 col1\" >0</td>\n",
       "                        <td id=\"T_270dd478_160f_11ec_854b_d89c676d0792row2_col2\" class=\"data row2 col2\" >74</td>\n",
       "            </tr>\n",
       "            <tr>\n",
       "                        <th id=\"T_270dd478_160f_11ec_854b_d89c676d0792level0_row3\" class=\"row_heading level0 row3\" >1</th>\n",
       "                        <td id=\"T_270dd478_160f_11ec_854b_d89c676d0792row3_col0\" class=\"data row3 col0\" >Female</td>\n",
       "                        <td id=\"T_270dd478_160f_11ec_854b_d89c676d0792row3_col1\" class=\"data row3 col1\" >1</td>\n",
       "                        <td id=\"T_270dd478_160f_11ec_854b_d89c676d0792row3_col2\" class=\"data row3 col2\" >22</td>\n",
       "            </tr>\n",
       "    </tbody></table>"
      ],
      "text/plain": [
       "<pandas.io.formats.style.Styler at 0xb3e4670>"
      ]
     },
     "execution_count": 20,
     "metadata": {},
     "output_type": "execute_result"
    }
   ],
   "source": [
    "s= df1.groupby(['Sex','Exercise_induced_angina'])['Heart_attack'].count().reset_index().sort_values(by='Heart_attack',ascending=False)\n",
    "s.head(10).style.background_gradient(cmap='Purples')"
   ]
  },
  {
   "cell_type": "markdown",
   "metadata": {},
   "source": [
    "##### 9.The lower the depression, the higher the cases were for heart attack."
   ]
  },
  {
   "cell_type": "code",
   "execution_count": 21,
   "metadata": {},
   "outputs": [
    {
     "data": {
      "text/html": [
       "<style  type=\"text/css\" >\n",
       "    #T_2897537a_160f_11ec_9730_d89c676d0792row0_col1 {\n",
       "            background-color:  #f7fbff;\n",
       "            color:  #000000;\n",
       "        }    #T_2897537a_160f_11ec_9730_d89c676d0792row0_col2 {\n",
       "            background-color:  #08306b;\n",
       "            color:  #f1f1f1;\n",
       "        }    #T_2897537a_160f_11ec_9730_d89c676d0792row1_col1 {\n",
       "            background-color:  #f7fbff;\n",
       "            color:  #000000;\n",
       "        }    #T_2897537a_160f_11ec_9730_d89c676d0792row1_col2 {\n",
       "            background-color:  #6fb0d7;\n",
       "            color:  #000000;\n",
       "        }    #T_2897537a_160f_11ec_9730_d89c676d0792row2_col1 {\n",
       "            background-color:  #4a98c9;\n",
       "            color:  #000000;\n",
       "        }    #T_2897537a_160f_11ec_9730_d89c676d0792row2_col2 {\n",
       "            background-color:  #e3eef8;\n",
       "            color:  #000000;\n",
       "        }    #T_2897537a_160f_11ec_9730_d89c676d0792row3_col1 {\n",
       "            background-color:  #94c4df;\n",
       "            color:  #000000;\n",
       "        }    #T_2897537a_160f_11ec_9730_d89c676d0792row3_col2 {\n",
       "            background-color:  #edf4fc;\n",
       "            color:  #000000;\n",
       "        }    #T_2897537a_160f_11ec_9730_d89c676d0792row4_col1 {\n",
       "            background-color:  #6aaed6;\n",
       "            color:  #000000;\n",
       "        }    #T_2897537a_160f_11ec_9730_d89c676d0792row4_col2 {\n",
       "            background-color:  #f1f7fd;\n",
       "            color:  #000000;\n",
       "        }    #T_2897537a_160f_11ec_9730_d89c676d0792row5_col1 {\n",
       "            background-color:  #084a91;\n",
       "            color:  #f1f1f1;\n",
       "        }    #T_2897537a_160f_11ec_9730_d89c676d0792row5_col2 {\n",
       "            background-color:  #f4f9fe;\n",
       "            color:  #000000;\n",
       "        }    #T_2897537a_160f_11ec_9730_d89c676d0792row6_col1 {\n",
       "            background-color:  #2e7ebc;\n",
       "            color:  #000000;\n",
       "        }    #T_2897537a_160f_11ec_9730_d89c676d0792row6_col2 {\n",
       "            background-color:  #f4f9fe;\n",
       "            color:  #000000;\n",
       "        }    #T_2897537a_160f_11ec_9730_d89c676d0792row7_col1 {\n",
       "            background-color:  #b7d4ea;\n",
       "            color:  #000000;\n",
       "        }    #T_2897537a_160f_11ec_9730_d89c676d0792row7_col2 {\n",
       "            background-color:  #f4f9fe;\n",
       "            color:  #000000;\n",
       "        }    #T_2897537a_160f_11ec_9730_d89c676d0792row8_col1 {\n",
       "            background-color:  #08306b;\n",
       "            color:  #f1f1f1;\n",
       "        }    #T_2897537a_160f_11ec_9730_d89c676d0792row8_col2 {\n",
       "            background-color:  #f7fbff;\n",
       "            color:  #000000;\n",
       "        }    #T_2897537a_160f_11ec_9730_d89c676d0792row9_col1 {\n",
       "            background-color:  #1764ab;\n",
       "            color:  #f1f1f1;\n",
       "        }    #T_2897537a_160f_11ec_9730_d89c676d0792row9_col2 {\n",
       "            background-color:  #f7fbff;\n",
       "            color:  #000000;\n",
       "        }</style><table id=\"T_2897537a_160f_11ec_9730_d89c676d0792\" ><thead>    <tr>        <th class=\"blank level0\" ></th>        <th class=\"col_heading level0 col0\" >Sex</th>        <th class=\"col_heading level0 col1\" >ST_depression</th>        <th class=\"col_heading level0 col2\" >Heart_attack</th>    </tr></thead><tbody>\n",
       "                <tr>\n",
       "                        <th id=\"T_2897537a_160f_11ec_9730_d89c676d0792level0_row0\" class=\"row_heading level0 row0\" >27</th>\n",
       "                        <td id=\"T_2897537a_160f_11ec_9730_d89c676d0792row0_col0\" class=\"data row0 col0\" >Male</td>\n",
       "                        <td id=\"T_2897537a_160f_11ec_9730_d89c676d0792row0_col1\" class=\"data row0 col1\" >0.000000</td>\n",
       "                        <td id=\"T_2897537a_160f_11ec_9730_d89c676d0792row0_col2\" class=\"data row0 col2\" >64</td>\n",
       "            </tr>\n",
       "            <tr>\n",
       "                        <th id=\"T_2897537a_160f_11ec_9730_d89c676d0792level0_row1\" class=\"row_heading level0 row1\" >0</th>\n",
       "                        <td id=\"T_2897537a_160f_11ec_9730_d89c676d0792row1_col0\" class=\"data row1 col0\" >Female</td>\n",
       "                        <td id=\"T_2897537a_160f_11ec_9730_d89c676d0792row1_col1\" class=\"data row1 col1\" >0.000000</td>\n",
       "                        <td id=\"T_2897537a_160f_11ec_9730_d89c676d0792row1_col2\" class=\"data row1 col2\" >35</td>\n",
       "            </tr>\n",
       "            <tr>\n",
       "                        <th id=\"T_2897537a_160f_11ec_9730_d89c676d0792level0_row2\" class=\"row_heading level0 row2\" >37</th>\n",
       "                        <td id=\"T_2897537a_160f_11ec_9730_d89c676d0792row2_col0\" class=\"data row2 col0\" >Male</td>\n",
       "                        <td id=\"T_2897537a_160f_11ec_9730_d89c676d0792row2_col1\" class=\"data row2 col1\" >1.200000</td>\n",
       "                        <td id=\"T_2897537a_160f_11ec_9730_d89c676d0792row2_col2\" class=\"data row2 col2\" >13</td>\n",
       "            </tr>\n",
       "            <tr>\n",
       "                        <th id=\"T_2897537a_160f_11ec_9730_d89c676d0792level0_row3\" class=\"row_heading level0 row3\" >34</th>\n",
       "                        <td id=\"T_2897537a_160f_11ec_9730_d89c676d0792row3_col0\" class=\"data row3 col0\" >Male</td>\n",
       "                        <td id=\"T_2897537a_160f_11ec_9730_d89c676d0792row3_col1\" class=\"data row3 col1\" >0.800000</td>\n",
       "                        <td id=\"T_2897537a_160f_11ec_9730_d89c676d0792row3_col2\" class=\"data row3 col2\" >10</td>\n",
       "            </tr>\n",
       "            <tr>\n",
       "                        <th id=\"T_2897537a_160f_11ec_9730_d89c676d0792level0_row4\" class=\"row_heading level0 row4\" >36</th>\n",
       "                        <td id=\"T_2897537a_160f_11ec_9730_d89c676d0792row4_col0\" class=\"data row4 col0\" >Male</td>\n",
       "                        <td id=\"T_2897537a_160f_11ec_9730_d89c676d0792row4_col1\" class=\"data row4 col1\" >1.000000</td>\n",
       "                        <td id=\"T_2897537a_160f_11ec_9730_d89c676d0792row4_col2\" class=\"data row4 col2\" >9</td>\n",
       "            </tr>\n",
       "            <tr>\n",
       "                        <th id=\"T_2897537a_160f_11ec_9730_d89c676d0792level0_row5\" class=\"row_heading level0 row5\" >41</th>\n",
       "                        <td id=\"T_2897537a_160f_11ec_9730_d89c676d0792row5_col0\" class=\"data row5 col0\" >Male</td>\n",
       "                        <td id=\"T_2897537a_160f_11ec_9730_d89c676d0792row5_col1\" class=\"data row5 col1\" >1.800000</td>\n",
       "                        <td id=\"T_2897537a_160f_11ec_9730_d89c676d0792row5_col2\" class=\"data row5 col2\" >8</td>\n",
       "            </tr>\n",
       "            <tr>\n",
       "                        <th id=\"T_2897537a_160f_11ec_9730_d89c676d0792level0_row6\" class=\"row_heading level0 row6\" >38</th>\n",
       "                        <td id=\"T_2897537a_160f_11ec_9730_d89c676d0792row6_col0\" class=\"data row6 col0\" >Male</td>\n",
       "                        <td id=\"T_2897537a_160f_11ec_9730_d89c676d0792row6_col1\" class=\"data row6 col1\" >1.400000</td>\n",
       "                        <td id=\"T_2897537a_160f_11ec_9730_d89c676d0792row6_col2\" class=\"data row6 col2\" >8</td>\n",
       "            </tr>\n",
       "            <tr>\n",
       "                        <th id=\"T_2897537a_160f_11ec_9730_d89c676d0792level0_row7\" class=\"row_heading level0 row7\" >33</th>\n",
       "                        <td id=\"T_2897537a_160f_11ec_9730_d89c676d0792row7_col0\" class=\"data row7 col0\" >Male</td>\n",
       "                        <td id=\"T_2897537a_160f_11ec_9730_d89c676d0792row7_col1\" class=\"data row7 col1\" >0.600000</td>\n",
       "                        <td id=\"T_2897537a_160f_11ec_9730_d89c676d0792row7_col2\" class=\"data row7 col2\" >8</td>\n",
       "            </tr>\n",
       "            <tr>\n",
       "                        <th id=\"T_2897537a_160f_11ec_9730_d89c676d0792level0_row8\" class=\"row_heading level0 row8\" >43</th>\n",
       "                        <td id=\"T_2897537a_160f_11ec_9730_d89c676d0792row8_col0\" class=\"data row8 col0\" >Male</td>\n",
       "                        <td id=\"T_2897537a_160f_11ec_9730_d89c676d0792row8_col1\" class=\"data row8 col1\" >2.000000</td>\n",
       "                        <td id=\"T_2897537a_160f_11ec_9730_d89c676d0792row8_col2\" class=\"data row8 col2\" >7</td>\n",
       "            </tr>\n",
       "            <tr>\n",
       "                        <th id=\"T_2897537a_160f_11ec_9730_d89c676d0792level0_row9\" class=\"row_heading level0 row9\" >40</th>\n",
       "                        <td id=\"T_2897537a_160f_11ec_9730_d89c676d0792row9_col0\" class=\"data row9 col0\" >Male</td>\n",
       "                        <td id=\"T_2897537a_160f_11ec_9730_d89c676d0792row9_col1\" class=\"data row9 col1\" >1.600000</td>\n",
       "                        <td id=\"T_2897537a_160f_11ec_9730_d89c676d0792row9_col2\" class=\"data row9 col2\" >7</td>\n",
       "            </tr>\n",
       "    </tbody></table>"
      ],
      "text/plain": [
       "<pandas.io.formats.style.Styler at 0xb3d37b0>"
      ]
     },
     "execution_count": 21,
     "metadata": {},
     "output_type": "execute_result"
    }
   ],
   "source": [
    "s= df1.groupby(['Sex','ST_depression'])['Heart_attack'].count().reset_index().sort_values(by='Heart_attack',ascending=False)\n",
    "s.head(10).style.background_gradient(cmap='Blues')"
   ]
  },
  {
   "cell_type": "markdown",
   "metadata": {},
   "source": [
    "##### 10.The higher the slope value, the higher were the cases for Heart attack."
   ]
  },
  {
   "cell_type": "code",
   "execution_count": 22,
   "metadata": {},
   "outputs": [
    {
     "data": {
      "text/html": [
       "<style  type=\"text/css\" >\n",
       "    #T_29ed5ac0_160f_11ec_bbcc_d89c676d0792row0_col1 {\n",
       "            background-color:  #00441b;\n",
       "            color:  #f1f1f1;\n",
       "        }    #T_29ed5ac0_160f_11ec_bbcc_d89c676d0792row0_col2 {\n",
       "            background-color:  #00441b;\n",
       "            color:  #f1f1f1;\n",
       "        }    #T_29ed5ac0_160f_11ec_bbcc_d89c676d0792row1_col1 {\n",
       "            background-color:  #73c476;\n",
       "            color:  #000000;\n",
       "        }    #T_29ed5ac0_160f_11ec_bbcc_d89c676d0792row1_col2 {\n",
       "            background-color:  #00471c;\n",
       "            color:  #f1f1f1;\n",
       "        }    #T_29ed5ac0_160f_11ec_bbcc_d89c676d0792row2_col1 {\n",
       "            background-color:  #00441b;\n",
       "            color:  #f1f1f1;\n",
       "        }    #T_29ed5ac0_160f_11ec_bbcc_d89c676d0792row2_col2 {\n",
       "            background-color:  #86cc85;\n",
       "            color:  #000000;\n",
       "        }    #T_29ed5ac0_160f_11ec_bbcc_d89c676d0792row3_col1 {\n",
       "            background-color:  #73c476;\n",
       "            color:  #000000;\n",
       "        }    #T_29ed5ac0_160f_11ec_bbcc_d89c676d0792row3_col2 {\n",
       "            background-color:  #8ace88;\n",
       "            color:  #000000;\n",
       "        }    #T_29ed5ac0_160f_11ec_bbcc_d89c676d0792row4_col1 {\n",
       "            background-color:  #f7fcf5;\n",
       "            color:  #000000;\n",
       "        }    #T_29ed5ac0_160f_11ec_bbcc_d89c676d0792row4_col2 {\n",
       "            background-color:  #e6f5e1;\n",
       "            color:  #000000;\n",
       "        }    #T_29ed5ac0_160f_11ec_bbcc_d89c676d0792row5_col1 {\n",
       "            background-color:  #f7fcf5;\n",
       "            color:  #000000;\n",
       "        }    #T_29ed5ac0_160f_11ec_bbcc_d89c676d0792row5_col2 {\n",
       "            background-color:  #f7fcf5;\n",
       "            color:  #000000;\n",
       "        }</style><table id=\"T_29ed5ac0_160f_11ec_bbcc_d89c676d0792\" ><thead>    <tr>        <th class=\"blank level0\" ></th>        <th class=\"col_heading level0 col0\" >Sex</th>        <th class=\"col_heading level0 col1\" >ST_slope</th>        <th class=\"col_heading level0 col2\" >Heart_attack</th>    </tr></thead><tbody>\n",
       "                <tr>\n",
       "                        <th id=\"T_29ed5ac0_160f_11ec_bbcc_d89c676d0792level0_row0\" class=\"row_heading level0 row0\" >5</th>\n",
       "                        <td id=\"T_29ed5ac0_160f_11ec_bbcc_d89c676d0792row0_col0\" class=\"data row0 col0\" >Male</td>\n",
       "                        <td id=\"T_29ed5ac0_160f_11ec_bbcc_d89c676d0792row0_col1\" class=\"data row0 col1\" >2</td>\n",
       "                        <td id=\"T_29ed5ac0_160f_11ec_bbcc_d89c676d0792row0_col2\" class=\"data row0 col2\" >96</td>\n",
       "            </tr>\n",
       "            <tr>\n",
       "                        <th id=\"T_29ed5ac0_160f_11ec_bbcc_d89c676d0792level0_row1\" class=\"row_heading level0 row1\" >4</th>\n",
       "                        <td id=\"T_29ed5ac0_160f_11ec_bbcc_d89c676d0792row1_col0\" class=\"data row1 col0\" >Male</td>\n",
       "                        <td id=\"T_29ed5ac0_160f_11ec_bbcc_d89c676d0792row1_col1\" class=\"data row1 col1\" >1</td>\n",
       "                        <td id=\"T_29ed5ac0_160f_11ec_bbcc_d89c676d0792row1_col2\" class=\"data row1 col2\" >95</td>\n",
       "            </tr>\n",
       "            <tr>\n",
       "                        <th id=\"T_29ed5ac0_160f_11ec_bbcc_d89c676d0792level0_row2\" class=\"row_heading level0 row2\" >2</th>\n",
       "                        <td id=\"T_29ed5ac0_160f_11ec_bbcc_d89c676d0792row2_col0\" class=\"data row2 col0\" >Female</td>\n",
       "                        <td id=\"T_29ed5ac0_160f_11ec_bbcc_d89c676d0792row2_col1\" class=\"data row2 col1\" >2</td>\n",
       "                        <td id=\"T_29ed5ac0_160f_11ec_bbcc_d89c676d0792row2_col2\" class=\"data row2 col2\" >46</td>\n",
       "            </tr>\n",
       "            <tr>\n",
       "                        <th id=\"T_29ed5ac0_160f_11ec_bbcc_d89c676d0792level0_row3\" class=\"row_heading level0 row3\" >1</th>\n",
       "                        <td id=\"T_29ed5ac0_160f_11ec_bbcc_d89c676d0792row3_col0\" class=\"data row3 col0\" >Female</td>\n",
       "                        <td id=\"T_29ed5ac0_160f_11ec_bbcc_d89c676d0792row3_col1\" class=\"data row3 col1\" >1</td>\n",
       "                        <td id=\"T_29ed5ac0_160f_11ec_bbcc_d89c676d0792row3_col2\" class=\"data row3 col2\" >45</td>\n",
       "            </tr>\n",
       "            <tr>\n",
       "                        <th id=\"T_29ed5ac0_160f_11ec_bbcc_d89c676d0792level0_row4\" class=\"row_heading level0 row4\" >3</th>\n",
       "                        <td id=\"T_29ed5ac0_160f_11ec_bbcc_d89c676d0792row4_col0\" class=\"data row4 col0\" >Male</td>\n",
       "                        <td id=\"T_29ed5ac0_160f_11ec_bbcc_d89c676d0792row4_col1\" class=\"data row4 col1\" >0</td>\n",
       "                        <td id=\"T_29ed5ac0_160f_11ec_bbcc_d89c676d0792row4_col2\" class=\"data row4 col2\" >16</td>\n",
       "            </tr>\n",
       "            <tr>\n",
       "                        <th id=\"T_29ed5ac0_160f_11ec_bbcc_d89c676d0792level0_row5\" class=\"row_heading level0 row5\" >0</th>\n",
       "                        <td id=\"T_29ed5ac0_160f_11ec_bbcc_d89c676d0792row5_col0\" class=\"data row5 col0\" >Female</td>\n",
       "                        <td id=\"T_29ed5ac0_160f_11ec_bbcc_d89c676d0792row5_col1\" class=\"data row5 col1\" >0</td>\n",
       "                        <td id=\"T_29ed5ac0_160f_11ec_bbcc_d89c676d0792row5_col2\" class=\"data row5 col2\" >5</td>\n",
       "            </tr>\n",
       "    </tbody></table>"
      ],
      "text/plain": [
       "<pandas.io.formats.style.Styler at 0xb85b230>"
      ]
     },
     "execution_count": 22,
     "metadata": {},
     "output_type": "execute_result"
    }
   ],
   "source": [
    "s= df1.groupby(['Sex','ST_slope'])['Heart_attack'].count().reset_index().sort_values(by='Heart_attack',ascending=False)\n",
    "s.head(10).style.background_gradient(cmap='Greens')"
   ]
  },
  {
   "cell_type": "markdown",
   "metadata": {},
   "source": [
    "##### 11.The lower the number of vessels blocked, the higher were the heart attack cases. This means that 0 represents that all 4 major blood vessels were blocked and 4 represented all vessels were free for flow."
   ]
  },
  {
   "cell_type": "code",
   "execution_count": 23,
   "metadata": {},
   "outputs": [
    {
     "data": {
      "text/html": [
       "<style  type=\"text/css\" >\n",
       "    #T_2b2b6f8c_160f_11ec_a591_d89c676d0792row0_col1 {\n",
       "            background-color:  #fff5f0;\n",
       "            color:  #000000;\n",
       "        }    #T_2b2b6f8c_160f_11ec_a591_d89c676d0792row0_col2 {\n",
       "            background-color:  #67000d;\n",
       "            color:  #f1f1f1;\n",
       "        }    #T_2b2b6f8c_160f_11ec_a591_d89c676d0792row1_col1 {\n",
       "            background-color:  #fff5f0;\n",
       "            color:  #000000;\n",
       "        }    #T_2b2b6f8c_160f_11ec_a591_d89c676d0792row1_col2 {\n",
       "            background-color:  #f5533b;\n",
       "            color:  #000000;\n",
       "        }    #T_2b2b6f8c_160f_11ec_a591_d89c676d0792row2_col1 {\n",
       "            background-color:  #fcbba1;\n",
       "            color:  #000000;\n",
       "        }    #T_2b2b6f8c_160f_11ec_a591_d89c676d0792row2_col2 {\n",
       "            background-color:  #fc8060;\n",
       "            color:  #000000;\n",
       "        }    #T_2b2b6f8c_160f_11ec_a591_d89c676d0792row3_col1 {\n",
       "            background-color:  #fb694a;\n",
       "            color:  #000000;\n",
       "        }    #T_2b2b6f8c_160f_11ec_a591_d89c676d0792row3_col2 {\n",
       "            background-color:  #fdcbb6;\n",
       "            color:  #000000;\n",
       "        }    #T_2b2b6f8c_160f_11ec_a591_d89c676d0792row4_col1 {\n",
       "            background-color:  #ca181d;\n",
       "            color:  #f1f1f1;\n",
       "        }    #T_2b2b6f8c_160f_11ec_a591_d89c676d0792row4_col2 {\n",
       "            background-color:  #fee3d6;\n",
       "            color:  #000000;\n",
       "        }    #T_2b2b6f8c_160f_11ec_a591_d89c676d0792row5_col1 {\n",
       "            background-color:  #fcbba1;\n",
       "            color:  #000000;\n",
       "        }    #T_2b2b6f8c_160f_11ec_a591_d89c676d0792row5_col2 {\n",
       "            background-color:  #fee4d8;\n",
       "            color:  #000000;\n",
       "        }    #T_2b2b6f8c_160f_11ec_a591_d89c676d0792row6_col1 {\n",
       "            background-color:  #fb694a;\n",
       "            color:  #000000;\n",
       "        }    #T_2b2b6f8c_160f_11ec_a591_d89c676d0792row6_col2 {\n",
       "            background-color:  #fee7dc;\n",
       "            color:  #000000;\n",
       "        }    #T_2b2b6f8c_160f_11ec_a591_d89c676d0792row7_col1 {\n",
       "            background-color:  #67000d;\n",
       "            color:  #f1f1f1;\n",
       "        }    #T_2b2b6f8c_160f_11ec_a591_d89c676d0792row7_col2 {\n",
       "            background-color:  #fff4ee;\n",
       "            color:  #000000;\n",
       "        }    #T_2b2b6f8c_160f_11ec_a591_d89c676d0792row8_col1 {\n",
       "            background-color:  #ca181d;\n",
       "            color:  #f1f1f1;\n",
       "        }    #T_2b2b6f8c_160f_11ec_a591_d89c676d0792row8_col2 {\n",
       "            background-color:  #fff5f0;\n",
       "            color:  #000000;\n",
       "        }</style><table id=\"T_2b2b6f8c_160f_11ec_a591_d89c676d0792\" ><thead>    <tr>        <th class=\"blank level0\" ></th>        <th class=\"col_heading level0 col0\" >Sex</th>        <th class=\"col_heading level0 col1\" >Major_vessels</th>        <th class=\"col_heading level0 col2\" >Heart_attack</th>    </tr></thead><tbody>\n",
       "                <tr>\n",
       "                        <th id=\"T_2b2b6f8c_160f_11ec_a591_d89c676d0792level0_row0\" class=\"row_heading level0 row0\" >4</th>\n",
       "                        <td id=\"T_2b2b6f8c_160f_11ec_a591_d89c676d0792row0_col0\" class=\"data row0 col0\" >Male</td>\n",
       "                        <td id=\"T_2b2b6f8c_160f_11ec_a591_d89c676d0792row0_col1\" class=\"data row0 col1\" >0</td>\n",
       "                        <td id=\"T_2b2b6f8c_160f_11ec_a591_d89c676d0792row0_col2\" class=\"data row0 col2\" >111</td>\n",
       "            </tr>\n",
       "            <tr>\n",
       "                        <th id=\"T_2b2b6f8c_160f_11ec_a591_d89c676d0792level0_row1\" class=\"row_heading level0 row1\" >0</th>\n",
       "                        <td id=\"T_2b2b6f8c_160f_11ec_a591_d89c676d0792row1_col0\" class=\"data row1 col0\" >Female</td>\n",
       "                        <td id=\"T_2b2b6f8c_160f_11ec_a591_d89c676d0792row1_col1\" class=\"data row1 col1\" >0</td>\n",
       "                        <td id=\"T_2b2b6f8c_160f_11ec_a591_d89c676d0792row1_col2\" class=\"data row1 col2\" >64</td>\n",
       "            </tr>\n",
       "            <tr>\n",
       "                        <th id=\"T_2b2b6f8c_160f_11ec_a591_d89c676d0792level0_row2\" class=\"row_heading level0 row2\" >5</th>\n",
       "                        <td id=\"T_2b2b6f8c_160f_11ec_a591_d89c676d0792row2_col0\" class=\"data row2 col0\" >Male</td>\n",
       "                        <td id=\"T_2b2b6f8c_160f_11ec_a591_d89c676d0792row2_col1\" class=\"data row2 col1\" >1</td>\n",
       "                        <td id=\"T_2b2b6f8c_160f_11ec_a591_d89c676d0792row2_col2\" class=\"data row2 col2\" >50</td>\n",
       "            </tr>\n",
       "            <tr>\n",
       "                        <th id=\"T_2b2b6f8c_160f_11ec_a591_d89c676d0792level0_row3\" class=\"row_heading level0 row3\" >6</th>\n",
       "                        <td id=\"T_2b2b6f8c_160f_11ec_a591_d89c676d0792row3_col0\" class=\"data row3 col0\" >Male</td>\n",
       "                        <td id=\"T_2b2b6f8c_160f_11ec_a591_d89c676d0792row3_col1\" class=\"data row3 col1\" >2</td>\n",
       "                        <td id=\"T_2b2b6f8c_160f_11ec_a591_d89c676d0792row3_col2\" class=\"data row3 col2\" >25</td>\n",
       "            </tr>\n",
       "            <tr>\n",
       "                        <th id=\"T_2b2b6f8c_160f_11ec_a591_d89c676d0792level0_row4\" class=\"row_heading level0 row4\" >7</th>\n",
       "                        <td id=\"T_2b2b6f8c_160f_11ec_a591_d89c676d0792row4_col0\" class=\"data row4 col0\" >Male</td>\n",
       "                        <td id=\"T_2b2b6f8c_160f_11ec_a591_d89c676d0792row4_col1\" class=\"data row4 col1\" >3</td>\n",
       "                        <td id=\"T_2b2b6f8c_160f_11ec_a591_d89c676d0792row4_col2\" class=\"data row4 col2\" >16</td>\n",
       "            </tr>\n",
       "            <tr>\n",
       "                        <th id=\"T_2b2b6f8c_160f_11ec_a591_d89c676d0792level0_row5\" class=\"row_heading level0 row5\" >1</th>\n",
       "                        <td id=\"T_2b2b6f8c_160f_11ec_a591_d89c676d0792row5_col0\" class=\"data row5 col0\" >Female</td>\n",
       "                        <td id=\"T_2b2b6f8c_160f_11ec_a591_d89c676d0792row5_col1\" class=\"data row5 col1\" >1</td>\n",
       "                        <td id=\"T_2b2b6f8c_160f_11ec_a591_d89c676d0792row5_col2\" class=\"data row5 col2\" >15</td>\n",
       "            </tr>\n",
       "            <tr>\n",
       "                        <th id=\"T_2b2b6f8c_160f_11ec_a591_d89c676d0792level0_row6\" class=\"row_heading level0 row6\" >2</th>\n",
       "                        <td id=\"T_2b2b6f8c_160f_11ec_a591_d89c676d0792row6_col0\" class=\"data row6 col0\" >Female</td>\n",
       "                        <td id=\"T_2b2b6f8c_160f_11ec_a591_d89c676d0792row6_col1\" class=\"data row6 col1\" >2</td>\n",
       "                        <td id=\"T_2b2b6f8c_160f_11ec_a591_d89c676d0792row6_col2\" class=\"data row6 col2\" >13</td>\n",
       "            </tr>\n",
       "            <tr>\n",
       "                        <th id=\"T_2b2b6f8c_160f_11ec_a591_d89c676d0792level0_row7\" class=\"row_heading level0 row7\" >8</th>\n",
       "                        <td id=\"T_2b2b6f8c_160f_11ec_a591_d89c676d0792row7_col0\" class=\"data row7 col0\" >Male</td>\n",
       "                        <td id=\"T_2b2b6f8c_160f_11ec_a591_d89c676d0792row7_col1\" class=\"data row7 col1\" >4</td>\n",
       "                        <td id=\"T_2b2b6f8c_160f_11ec_a591_d89c676d0792row7_col2\" class=\"data row7 col2\" >5</td>\n",
       "            </tr>\n",
       "            <tr>\n",
       "                        <th id=\"T_2b2b6f8c_160f_11ec_a591_d89c676d0792level0_row8\" class=\"row_heading level0 row8\" >3</th>\n",
       "                        <td id=\"T_2b2b6f8c_160f_11ec_a591_d89c676d0792row8_col0\" class=\"data row8 col0\" >Female</td>\n",
       "                        <td id=\"T_2b2b6f8c_160f_11ec_a591_d89c676d0792row8_col1\" class=\"data row8 col1\" >3</td>\n",
       "                        <td id=\"T_2b2b6f8c_160f_11ec_a591_d89c676d0792row8_col2\" class=\"data row8 col2\" >4</td>\n",
       "            </tr>\n",
       "    </tbody></table>"
      ],
      "text/plain": [
       "<pandas.io.formats.style.Styler at 0xb4fdb90>"
      ]
     },
     "execution_count": 23,
     "metadata": {},
     "output_type": "execute_result"
    }
   ],
   "source": [
    "s= df1.groupby(['Sex','Major_vessels'])['Heart_attack'].count().reset_index().sort_values(by='Heart_attack',ascending=False)\n",
    "s.head(10).style.background_gradient(cmap='Reds')"
   ]
  },
  {
   "cell_type": "markdown",
   "metadata": {},
   "source": [
    "##### 12.The higher the Thalassemia type, the higher were the cases of heart attack."
   ]
  },
  {
   "cell_type": "code",
   "execution_count": 24,
   "metadata": {},
   "outputs": [
    {
     "data": {
      "text/html": [
       "<style  type=\"text/css\" >\n",
       "    #T_2c753fa6_160f_11ec_84f7_d89c676d0792row0_col1 {\n",
       "            background-color:  #000000;\n",
       "            color:  #f1f1f1;\n",
       "        }    #T_2c753fa6_160f_11ec_84f7_d89c676d0792row0_col2 {\n",
       "            background-color:  #000000;\n",
       "            color:  #f1f1f1;\n",
       "        }    #T_2c753fa6_160f_11ec_84f7_d89c676d0792row1_col1 {\n",
       "            background-color:  #686868;\n",
       "            color:  #f1f1f1;\n",
       "        }    #T_2c753fa6_160f_11ec_84f7_d89c676d0792row1_col2 {\n",
       "            background-color:  #2e2e2e;\n",
       "            color:  #f1f1f1;\n",
       "        }    #T_2c753fa6_160f_11ec_84f7_d89c676d0792row2_col1 {\n",
       "            background-color:  #686868;\n",
       "            color:  #f1f1f1;\n",
       "        }    #T_2c753fa6_160f_11ec_84f7_d89c676d0792row2_col2 {\n",
       "            background-color:  #4a4a4a;\n",
       "            color:  #f1f1f1;\n",
       "        }    #T_2c753fa6_160f_11ec_84f7_d89c676d0792row3_col1 {\n",
       "            background-color:  #c6c6c6;\n",
       "            color:  #000000;\n",
       "        }    #T_2c753fa6_160f_11ec_84f7_d89c676d0792row3_col2 {\n",
       "            background-color:  #eaeaea;\n",
       "            color:  #000000;\n",
       "        }    #T_2c753fa6_160f_11ec_84f7_d89c676d0792row4_col1 {\n",
       "            background-color:  #000000;\n",
       "            color:  #f1f1f1;\n",
       "        }    #T_2c753fa6_160f_11ec_84f7_d89c676d0792row4_col2 {\n",
       "            background-color:  #eeeeee;\n",
       "            color:  #000000;\n",
       "        }    #T_2c753fa6_160f_11ec_84f7_d89c676d0792row5_col1 {\n",
       "            background-color:  #ffffff;\n",
       "            color:  #000000;\n",
       "        }    #T_2c753fa6_160f_11ec_84f7_d89c676d0792row5_col2 {\n",
       "            background-color:  #ffffff;\n",
       "            color:  #000000;\n",
       "        }    #T_2c753fa6_160f_11ec_84f7_d89c676d0792row6_col1 {\n",
       "            background-color:  #c6c6c6;\n",
       "            color:  #000000;\n",
       "        }    #T_2c753fa6_160f_11ec_84f7_d89c676d0792row6_col2 {\n",
       "            background-color:  #ffffff;\n",
       "            color:  #000000;\n",
       "        }    #T_2c753fa6_160f_11ec_84f7_d89c676d0792row7_col1 {\n",
       "            background-color:  #ffffff;\n",
       "            color:  #000000;\n",
       "        }    #T_2c753fa6_160f_11ec_84f7_d89c676d0792row7_col2 {\n",
       "            background-color:  #ffffff;\n",
       "            color:  #000000;\n",
       "        }</style><table id=\"T_2c753fa6_160f_11ec_84f7_d89c676d0792\" ><thead>    <tr>        <th class=\"blank level0\" ></th>        <th class=\"col_heading level0 col0\" >Sex</th>        <th class=\"col_heading level0 col1\" >Thalassemia_types</th>        <th class=\"col_heading level0 col2\" >Heart_attack</th>    </tr></thead><tbody>\n",
       "                <tr>\n",
       "                        <th id=\"T_2c753fa6_160f_11ec_84f7_d89c676d0792level0_row0\" class=\"row_heading level0 row0\" >7</th>\n",
       "                        <td id=\"T_2c753fa6_160f_11ec_84f7_d89c676d0792row0_col0\" class=\"data row0 col0\" >Male</td>\n",
       "                        <td id=\"T_2c753fa6_160f_11ec_84f7_d89c676d0792row0_col1\" class=\"data row0 col1\" >3</td>\n",
       "                        <td id=\"T_2c753fa6_160f_11ec_84f7_d89c676d0792row0_col2\" class=\"data row0 col2\" >102</td>\n",
       "            </tr>\n",
       "            <tr>\n",
       "                        <th id=\"T_2c753fa6_160f_11ec_84f7_d89c676d0792level0_row1\" class=\"row_heading level0 row1\" >6</th>\n",
       "                        <td id=\"T_2c753fa6_160f_11ec_84f7_d89c676d0792row1_col0\" class=\"data row1 col0\" >Male</td>\n",
       "                        <td id=\"T_2c753fa6_160f_11ec_84f7_d89c676d0792row1_col1\" class=\"data row1 col1\" >2</td>\n",
       "                        <td id=\"T_2c753fa6_160f_11ec_84f7_d89c676d0792row1_col2\" class=\"data row1 col2\" >87</td>\n",
       "            </tr>\n",
       "            <tr>\n",
       "                        <th id=\"T_2c753fa6_160f_11ec_84f7_d89c676d0792level0_row2\" class=\"row_heading level0 row2\" >2</th>\n",
       "                        <td id=\"T_2c753fa6_160f_11ec_84f7_d89c676d0792row2_col0\" class=\"data row2 col0\" >Female</td>\n",
       "                        <td id=\"T_2c753fa6_160f_11ec_84f7_d89c676d0792row2_col1\" class=\"data row2 col1\" >2</td>\n",
       "                        <td id=\"T_2c753fa6_160f_11ec_84f7_d89c676d0792row2_col2\" class=\"data row2 col2\" >79</td>\n",
       "            </tr>\n",
       "            <tr>\n",
       "                        <th id=\"T_2c753fa6_160f_11ec_84f7_d89c676d0792level0_row3\" class=\"row_heading level0 row3\" >5</th>\n",
       "                        <td id=\"T_2c753fa6_160f_11ec_84f7_d89c676d0792row3_col0\" class=\"data row3 col0\" >Male</td>\n",
       "                        <td id=\"T_2c753fa6_160f_11ec_84f7_d89c676d0792row3_col1\" class=\"data row3 col1\" >1</td>\n",
       "                        <td id=\"T_2c753fa6_160f_11ec_84f7_d89c676d0792row3_col2\" class=\"data row3 col2\" >17</td>\n",
       "            </tr>\n",
       "            <tr>\n",
       "                        <th id=\"T_2c753fa6_160f_11ec_84f7_d89c676d0792level0_row4\" class=\"row_heading level0 row4\" >3</th>\n",
       "                        <td id=\"T_2c753fa6_160f_11ec_84f7_d89c676d0792row4_col0\" class=\"data row4 col0\" >Female</td>\n",
       "                        <td id=\"T_2c753fa6_160f_11ec_84f7_d89c676d0792row4_col1\" class=\"data row4 col1\" >3</td>\n",
       "                        <td id=\"T_2c753fa6_160f_11ec_84f7_d89c676d0792row4_col2\" class=\"data row4 col2\" >15</td>\n",
       "            </tr>\n",
       "            <tr>\n",
       "                        <th id=\"T_2c753fa6_160f_11ec_84f7_d89c676d0792level0_row5\" class=\"row_heading level0 row5\" >0</th>\n",
       "                        <td id=\"T_2c753fa6_160f_11ec_84f7_d89c676d0792row5_col0\" class=\"data row5 col0\" >Female</td>\n",
       "                        <td id=\"T_2c753fa6_160f_11ec_84f7_d89c676d0792row5_col1\" class=\"data row5 col1\" >0</td>\n",
       "                        <td id=\"T_2c753fa6_160f_11ec_84f7_d89c676d0792row5_col2\" class=\"data row5 col2\" >1</td>\n",
       "            </tr>\n",
       "            <tr>\n",
       "                        <th id=\"T_2c753fa6_160f_11ec_84f7_d89c676d0792level0_row6\" class=\"row_heading level0 row6\" >1</th>\n",
       "                        <td id=\"T_2c753fa6_160f_11ec_84f7_d89c676d0792row6_col0\" class=\"data row6 col0\" >Female</td>\n",
       "                        <td id=\"T_2c753fa6_160f_11ec_84f7_d89c676d0792row6_col1\" class=\"data row6 col1\" >1</td>\n",
       "                        <td id=\"T_2c753fa6_160f_11ec_84f7_d89c676d0792row6_col2\" class=\"data row6 col2\" >1</td>\n",
       "            </tr>\n",
       "            <tr>\n",
       "                        <th id=\"T_2c753fa6_160f_11ec_84f7_d89c676d0792level0_row7\" class=\"row_heading level0 row7\" >4</th>\n",
       "                        <td id=\"T_2c753fa6_160f_11ec_84f7_d89c676d0792row7_col0\" class=\"data row7 col0\" >Male</td>\n",
       "                        <td id=\"T_2c753fa6_160f_11ec_84f7_d89c676d0792row7_col1\" class=\"data row7 col1\" >0</td>\n",
       "                        <td id=\"T_2c753fa6_160f_11ec_84f7_d89c676d0792row7_col2\" class=\"data row7 col2\" >1</td>\n",
       "            </tr>\n",
       "    </tbody></table>"
      ],
      "text/plain": [
       "<pandas.io.formats.style.Styler at 0xb4fdfb0>"
      ]
     },
     "execution_count": 24,
     "metadata": {},
     "output_type": "execute_result"
    }
   ],
   "source": [
    "s= df1.groupby(['Sex','Thalassemia_types'])['Heart_attack'].count().reset_index().sort_values(by='Heart_attack',ascending=False)\n",
    "s.head(10).style.background_gradient(cmap='Greys')"
   ]
  },
  {
   "cell_type": "code",
   "execution_count": null,
   "metadata": {},
   "outputs": [],
   "source": []
  },
  {
   "cell_type": "code",
   "execution_count": 25,
   "metadata": {},
   "outputs": [
    {
     "data": {
      "text/plain": [
       "<matplotlib.axes._subplots.AxesSubplot at 0xb3e4650>"
      ]
     },
     "execution_count": 25,
     "metadata": {},
     "output_type": "execute_result"
    },
    {
     "data": {
      "image/png": "[encoded data removed]",
      "text/plain": [
       "<Figure size 720x360 with 2 Axes>"
      ]
     },
     "metadata": {},
     "output_type": "display_data"
    }
   ],
   "source": [
    "df2.drop(['Sex','Fasting_blood_sugar','Heart_attack','Chest_pain','ECG_results','Exercise_induced_angina','ST_slope','ST_depression','Major_vessels','Thalassemia_types'],axis = 'columns',inplace = True)\n",
    "plt.figure(figsize=(10,5))\n",
    "sns.heatmap(df2.corr(), annot=True, linewidth=0.5, cmap='coolwarm')"
   ]
  },
  {
   "cell_type": "markdown",
   "metadata": {},
   "source": [
    "# Model Selection and Training"
   ]
  },
  {
   "cell_type": "code",
   "execution_count": 26,
   "metadata": {},
   "outputs": [],
   "source": [
    "#Libraries for model selection\n",
    "from sklearn.model_selection import train_test_split\n",
    "from sklearn.preprocessing import StandardScaler\n",
    "from sklearn.neighbors import KNeighborsClassifier\n",
    "from sklearn.tree import DecisionTreeClassifier\n",
    "from sklearn import tree\n",
    "from sklearn.metrics import confusion_matrix\n",
    "from sklearn.metrics import f1_score\n",
    "from sklearn.metrics import precision_score\n",
    "from sklearn.metrics import recall_score\n",
    "from sklearn.metrics import accuracy_score\n",
    "from sklearn.metrics import matthews_corrcoef\n",
    "\n"
   ]
  },
  {
   "cell_type": "markdown",
   "metadata": {},
   "source": [
    "### I have created dummy variables for categorical data to increase the accuracy."
   ]
  },
  {
   "cell_type": "code",
   "execution_count": 27,
   "metadata": {},
   "outputs": [],
   "source": [
    "dummy1 = pd.get_dummies(df.Chest_pain)\n",
    "dummy2 = pd.get_dummies(df.Thalassemia_types)\n",
    "dummy3 = pd.get_dummies(df.ECG_results)\n",
    "dummy4 = pd.get_dummies(df.ST_slope)\n",
    "dummy5 = pd.get_dummies(df.Major_vessels)\n",
    "merge = pd.concat([df,dummy1,dummy2,dummy3,dummy4,dummy5],axis = 'columns')"
   ]
  },
  {
   "cell_type": "code",
   "execution_count": 28,
   "metadata": {},
   "outputs": [
    {
     "data": {
      "text/html": [
       "<div>\n",
       "<style scoped>\n",
       "    .dataframe tbody tr th:only-of-type {\n",
       "        vertical-align: middle;\n",
       "    }\n",
       "\n",
       "    .dataframe tbody tr th {\n",
       "        vertical-align: top;\n",
       "    }\n",
       "\n",
       "    .dataframe thead th {\n",
       "        text-align: right;\n",
       "    }\n",
       "</style>\n",
       "<table border=\"1\" class=\"dataframe\">\n",
       "  <thead>\n",
       "    <tr style=\"text-align: right;\">\n",
       "      <th></th>\n",
       "      <th>Age</th>\n",
       "      <th>Sex</th>\n",
       "      <th>Resting_blood_pressure</th>\n",
       "      <th>Cholesterol</th>\n",
       "      <th>Fasting_blood_sugar</th>\n",
       "      <th>Maximum_heart_rate</th>\n",
       "      <th>Exercise_induced_angina</th>\n",
       "      <th>ST_depression</th>\n",
       "      <th>Heart_attack</th>\n",
       "      <th>0</th>\n",
       "      <th>...</th>\n",
       "      <th>1</th>\n",
       "      <th>2</th>\n",
       "      <th>0</th>\n",
       "      <th>1</th>\n",
       "      <th>2</th>\n",
       "      <th>0</th>\n",
       "      <th>1</th>\n",
       "      <th>2</th>\n",
       "      <th>3</th>\n",
       "      <th>4</th>\n",
       "    </tr>\n",
       "  </thead>\n",
       "  <tbody>\n",
       "    <tr>\n",
       "      <th>0</th>\n",
       "      <td>63</td>\n",
       "      <td>1</td>\n",
       "      <td>145</td>\n",
       "      <td>233</td>\n",
       "      <td>1</td>\n",
       "      <td>150</td>\n",
       "      <td>0</td>\n",
       "      <td>2.3</td>\n",
       "      <td>1</td>\n",
       "      <td>0</td>\n",
       "      <td>...</td>\n",
       "      <td>0</td>\n",
       "      <td>0</td>\n",
       "      <td>1</td>\n",
       "      <td>0</td>\n",
       "      <td>0</td>\n",
       "      <td>1</td>\n",
       "      <td>0</td>\n",
       "      <td>0</td>\n",
       "      <td>0</td>\n",
       "      <td>0</td>\n",
       "    </tr>\n",
       "    <tr>\n",
       "      <th>1</th>\n",
       "      <td>37</td>\n",
       "      <td>1</td>\n",
       "      <td>130</td>\n",
       "      <td>250</td>\n",
       "      <td>0</td>\n",
       "      <td>187</td>\n",
       "      <td>0</td>\n",
       "      <td>3.5</td>\n",
       "      <td>1</td>\n",
       "      <td>0</td>\n",
       "      <td>...</td>\n",
       "      <td>1</td>\n",
       "      <td>0</td>\n",
       "      <td>1</td>\n",
       "      <td>0</td>\n",
       "      <td>0</td>\n",
       "      <td>1</td>\n",
       "      <td>0</td>\n",
       "      <td>0</td>\n",
       "      <td>0</td>\n",
       "      <td>0</td>\n",
       "    </tr>\n",
       "    <tr>\n",
       "      <th>2</th>\n",
       "      <td>41</td>\n",
       "      <td>0</td>\n",
       "      <td>130</td>\n",
       "      <td>204</td>\n",
       "      <td>0</td>\n",
       "      <td>172</td>\n",
       "      <td>0</td>\n",
       "      <td>1.4</td>\n",
       "      <td>1</td>\n",
       "      <td>0</td>\n",
       "      <td>...</td>\n",
       "      <td>0</td>\n",
       "      <td>0</td>\n",
       "      <td>0</td>\n",
       "      <td>0</td>\n",
       "      <td>1</td>\n",
       "      <td>1</td>\n",
       "      <td>0</td>\n",
       "      <td>0</td>\n",
       "      <td>0</td>\n",
       "      <td>0</td>\n",
       "    </tr>\n",
       "    <tr>\n",
       "      <th>3</th>\n",
       "      <td>56</td>\n",
       "      <td>1</td>\n",
       "      <td>120</td>\n",
       "      <td>236</td>\n",
       "      <td>0</td>\n",
       "      <td>178</td>\n",
       "      <td>0</td>\n",
       "      <td>0.8</td>\n",
       "      <td>1</td>\n",
       "      <td>0</td>\n",
       "      <td>...</td>\n",
       "      <td>1</td>\n",
       "      <td>0</td>\n",
       "      <td>0</td>\n",
       "      <td>0</td>\n",
       "      <td>1</td>\n",
       "      <td>1</td>\n",
       "      <td>0</td>\n",
       "      <td>0</td>\n",
       "      <td>0</td>\n",
       "      <td>0</td>\n",
       "    </tr>\n",
       "    <tr>\n",
       "      <th>4</th>\n",
       "      <td>57</td>\n",
       "      <td>0</td>\n",
       "      <td>120</td>\n",
       "      <td>354</td>\n",
       "      <td>0</td>\n",
       "      <td>163</td>\n",
       "      <td>1</td>\n",
       "      <td>0.6</td>\n",
       "      <td>1</td>\n",
       "      <td>1</td>\n",
       "      <td>...</td>\n",
       "      <td>1</td>\n",
       "      <td>0</td>\n",
       "      <td>0</td>\n",
       "      <td>0</td>\n",
       "      <td>1</td>\n",
       "      <td>1</td>\n",
       "      <td>0</td>\n",
       "      <td>0</td>\n",
       "      <td>0</td>\n",
       "      <td>0</td>\n",
       "    </tr>\n",
       "  </tbody>\n",
       "</table>\n",
       "<p>5 rows × 28 columns</p>\n",
       "</div>"
      ],
      "text/plain": [
       "   Age  Sex  Resting_blood_pressure  Cholesterol  Fasting_blood_sugar  \\\n",
       "0   63    1                     145          233                    1   \n",
       "1   37    1                     130          250                    0   \n",
       "2   41    0                     130          204                    0   \n",
       "3   56    1                     120          236                    0   \n",
       "4   57    0                     120          354                    0   \n",
       "\n",
       "   Maximum_heart_rate  Exercise_induced_angina  ST_depression  Heart_attack  \\\n",
       "0                 150                        0            2.3             1   \n",
       "1                 187                        0            3.5             1   \n",
       "2                 172                        0            1.4             1   \n",
       "3                 178                        0            0.8             1   \n",
       "4                 163                        1            0.6             1   \n",
       "\n",
       "   0  ...  1  2  0  1  2  0  1  2  3  4  \n",
       "0  0  ...  0  0  1  0  0  1  0  0  0  0  \n",
       "1  0  ...  1  0  1  0  0  1  0  0  0  0  \n",
       "2  0  ...  0  0  0  0  1  1  0  0  0  0  \n",
       "3  0  ...  1  0  0  0  1  1  0  0  0  0  \n",
       "4  1  ...  1  0  0  0  1  1  0  0  0  0  \n",
       "\n",
       "[5 rows x 28 columns]"
      ]
     },
     "execution_count": 28,
     "metadata": {},
     "output_type": "execute_result"
    }
   ],
   "source": [
    "final = merge.drop(['Chest_pain','Thalassemia_types','ECG_results','ST_slope','Major_vessels'],axis = 1)\n",
    "final.head()"
   ]
  },
  {
   "cell_type": "code",
   "execution_count": 29,
   "metadata": {},
   "outputs": [],
   "source": [
    "x = final.drop(['Heart_attack'], axis = 1)\n",
    "y = final['Heart_attack']"
   ]
  },
  {
   "cell_type": "code",
   "execution_count": 30,
   "metadata": {},
   "outputs": [],
   "source": [
    "x_train, x_test, y_train, y_test = train_test_split(x,y,test_size = 0.20, random_state = 5)"
   ]
  },
  {
   "cell_type": "markdown",
   "metadata": {},
   "source": [
    "#### Feature Scaling"
   ]
  },
  {
   "cell_type": "code",
   "execution_count": 31,
   "metadata": {},
   "outputs": [],
   "source": [
    "sc_X = StandardScaler()\n",
    "x_train = sc_X.fit_transform(x_train)\n",
    "x_test = sc_X.transform(x_test)"
   ]
  },
  {
   "cell_type": "code",
   "execution_count": null,
   "metadata": {},
   "outputs": [],
   "source": []
  },
  {
   "cell_type": "markdown",
   "metadata": {},
   "source": [
    "# Decision Trees"
   ]
  },
  {
   "cell_type": "code",
   "execution_count": 32,
   "metadata": {},
   "outputs": [
    {
     "data": {
      "text/plain": [
       "DecisionTreeClassifier(class_weight=None, criterion='entropy', max_depth=3,\n",
       "                       max_features=None, max_leaf_nodes=None,\n",
       "                       min_impurity_decrease=0.0, min_impurity_split=None,\n",
       "                       min_samples_leaf=5, min_samples_split=2,\n",
       "                       min_weight_fraction_leaf=0.0, presort=False,\n",
       "                       random_state=5, splitter='best')"
      ]
     },
     "execution_count": 32,
     "metadata": {},
     "output_type": "execute_result"
    }
   ],
   "source": [
    "clf_entropy = DecisionTreeClassifier(criterion=\"entropy\", random_state=5, max_depth=3, min_samples_leaf=5)\n",
    "clf_entropy.fit(x_train, y_train)"
   ]
  },
  {
   "cell_type": "code",
   "execution_count": 33,
   "metadata": {},
   "outputs": [
    {
     "data": {
      "text/plain": [
       "array([1, 0, 0, 0, 1, 0, 1, 0, 1, 1, 1, 0, 1, 1, 1, 0, 0, 0, 1, 0, 0, 0,\n",
       "       1, 0, 1, 1, 1, 1, 0, 0, 1, 1, 1, 1, 0, 0, 1, 1, 0, 1, 1, 0, 1, 0,\n",
       "       0, 0, 0, 0, 0, 0, 0, 1, 1, 1, 1, 1, 1, 1, 1, 1, 0], dtype=int64)"
      ]
     },
     "execution_count": 33,
     "metadata": {},
     "output_type": "execute_result"
    }
   ],
   "source": [
    "y_pred = clf_entropy.predict(x_test)\n",
    "y_pred"
   ]
  },
  {
   "cell_type": "markdown",
   "metadata": {},
   "source": [
    "##### ACCURACY SCORE"
   ]
  },
  {
   "cell_type": "code",
   "execution_count": 34,
   "metadata": {},
   "outputs": [
    {
     "name": "stdout",
     "output_type": "stream",
     "text": [
      "Accuracy is \n"
     ]
    },
    {
     "data": {
      "text/plain": [
       "(None, 90.1639344262295)"
      ]
     },
     "execution_count": 34,
     "metadata": {},
     "output_type": "execute_result"
    }
   ],
   "source": [
    "print(\"Accuracy is \"), accuracy_score(y_test,y_pred)*100"
   ]
  },
  {
   "cell_type": "markdown",
   "metadata": {},
   "source": [
    "##### F1  SCORE"
   ]
  },
  {
   "cell_type": "code",
   "execution_count": 35,
   "metadata": {},
   "outputs": [
    {
     "name": "stdout",
     "output_type": "stream",
     "text": [
      "F1 score is \n"
     ]
    },
    {
     "data": {
      "text/plain": [
       "(None, 90.625)"
      ]
     },
     "execution_count": 35,
     "metadata": {},
     "output_type": "execute_result"
    }
   ],
   "source": [
    "print(\"F1 score is \"), f1_score(y_test,y_pred)*100"
   ]
  },
  {
   "cell_type": "markdown",
   "metadata": {},
   "source": [
    "##### PRECISION SCORE"
   ]
  },
  {
   "cell_type": "code",
   "execution_count": 36,
   "metadata": {},
   "outputs": [
    {
     "name": "stdout",
     "output_type": "stream",
     "text": [
      "Precision score is \n"
     ]
    },
    {
     "data": {
      "text/plain": [
       "(None, 87.87878787878788)"
      ]
     },
     "execution_count": 36,
     "metadata": {},
     "output_type": "execute_result"
    }
   ],
   "source": [
    "print(\"Precision score is \"), precision_score(y_test,y_pred)*100"
   ]
  },
  {
   "cell_type": "markdown",
   "metadata": {},
   "source": [
    "##### RECALL SCORE"
   ]
  },
  {
   "cell_type": "code",
   "execution_count": 37,
   "metadata": {},
   "outputs": [
    {
     "name": "stdout",
     "output_type": "stream",
     "text": [
      "Recall score is \n"
     ]
    },
    {
     "data": {
      "text/plain": [
       "(None, 93.54838709677419)"
      ]
     },
     "execution_count": 37,
     "metadata": {},
     "output_type": "execute_result"
    }
   ],
   "source": [
    "print(\"Recall score is \"), recall_score(y_test,y_pred)*100"
   ]
  },
  {
   "cell_type": "markdown",
   "metadata": {},
   "source": [
    "##### Matthews Correlation Coefficient"
   ]
  },
  {
   "cell_type": "code",
   "execution_count": 38,
   "metadata": {},
   "outputs": [
    {
     "name": "stdout",
     "output_type": "stream",
     "text": [
      "Matthews correlation coefficient is \n"
     ]
    },
    {
     "data": {
      "text/plain": [
       "(None, 80.4750708270836)"
      ]
     },
     "execution_count": 38,
     "metadata": {},
     "output_type": "execute_result"
    }
   ],
   "source": [
    "print(\"Matthews correlation coefficient is \"), matthews_corrcoef(y_test,y_pred)*100"
   ]
  },
  {
   "cell_type": "markdown",
   "metadata": {},
   "source": [
    "# K-Nearest Neighbors"
   ]
  },
  {
   "cell_type": "code",
   "execution_count": 39,
   "metadata": {},
   "outputs": [
    {
     "data": {
      "text/plain": [
       "7.810249675906654"
      ]
     },
     "execution_count": 39,
     "metadata": {},
     "output_type": "execute_result"
    }
   ],
   "source": [
    "#finding the n_neighbor value\n",
    "import math\n",
    "math.sqrt(len(y_test))"
   ]
  },
  {
   "cell_type": "code",
   "execution_count": 40,
   "metadata": {},
   "outputs": [],
   "source": [
    "classifier = KNeighborsClassifier(n_neighbors=7, p=2, metric='euclidean')"
   ]
  },
  {
   "cell_type": "code",
   "execution_count": 41,
   "metadata": {},
   "outputs": [
    {
     "data": {
      "text/plain": [
       "KNeighborsClassifier(algorithm='auto', leaf_size=30, metric='euclidean',\n",
       "                     metric_params=None, n_jobs=None, n_neighbors=7, p=2,\n",
       "                     weights='uniform')"
      ]
     },
     "execution_count": 41,
     "metadata": {},
     "output_type": "execute_result"
    }
   ],
   "source": [
    "classifier.fit(x_train, y_train)"
   ]
  },
  {
   "cell_type": "code",
   "execution_count": 42,
   "metadata": {},
   "outputs": [
    {
     "data": {
      "text/plain": [
       "array([1, 0, 0, 0, 1, 0, 1, 0, 1, 1, 1, 0, 1, 1, 1, 0, 0, 1, 1, 0, 0, 0,\n",
       "       1, 0, 1, 1, 1, 1, 1, 0, 1, 1, 1, 1, 0, 0, 1, 1, 0, 1, 1, 0, 1, 0,\n",
       "       0, 0, 0, 0, 0, 0, 0, 1, 1, 1, 1, 1, 1, 0, 1, 1, 0], dtype=int64)"
      ]
     },
     "execution_count": 42,
     "metadata": {},
     "output_type": "execute_result"
    }
   ],
   "source": [
    "y_pred = classifier.predict(x_test)\n",
    "y_pred"
   ]
  },
  {
   "cell_type": "markdown",
   "metadata": {},
   "source": [
    "##### ACCURACY SCORE"
   ]
  },
  {
   "cell_type": "code",
   "execution_count": 43,
   "metadata": {},
   "outputs": [
    {
     "name": "stdout",
     "output_type": "stream",
     "text": [
      "Accuracy is \n"
     ]
    },
    {
     "data": {
      "text/plain": [
       "(None, 91.80327868852459)"
      ]
     },
     "execution_count": 43,
     "metadata": {},
     "output_type": "execute_result"
    }
   ],
   "source": [
    "print(\"Accuracy is \"), accuracy_score(y_test,y_pred)*100"
   ]
  },
  {
   "cell_type": "markdown",
   "metadata": {},
   "source": [
    "##### F1 SCORE"
   ]
  },
  {
   "cell_type": "code",
   "execution_count": 63,
   "metadata": {},
   "outputs": [
    {
     "name": "stdout",
     "output_type": "stream",
     "text": [
      "F1 score is \n"
     ]
    },
    {
     "data": {
      "text/plain": [
       "(None, 92.3076923076923)"
      ]
     },
     "execution_count": 63,
     "metadata": {},
     "output_type": "execute_result"
    }
   ],
   "source": [
    "print(\"F1 score is \"), f1_score(y_test,y_pred)*100"
   ]
  },
  {
   "cell_type": "markdown",
   "metadata": {},
   "source": [
    "##### PRECISION SCORE"
   ]
  },
  {
   "cell_type": "code",
   "execution_count": 64,
   "metadata": {},
   "outputs": [
    {
     "name": "stdout",
     "output_type": "stream",
     "text": [
      "Precision score is \n"
     ]
    },
    {
     "data": {
      "text/plain": [
       "(None, 88.23529411764706)"
      ]
     },
     "execution_count": 64,
     "metadata": {},
     "output_type": "execute_result"
    }
   ],
   "source": [
    "print(\"Precision score is \"), precision_score(y_test,y_pred)*100"
   ]
  },
  {
   "cell_type": "markdown",
   "metadata": {},
   "source": [
    "##### RECALL SCORE"
   ]
  },
  {
   "cell_type": "code",
   "execution_count": 79,
   "metadata": {},
   "outputs": [
    {
     "name": "stdout",
     "output_type": "stream",
     "text": [
      "Recall score is \n"
     ]
    },
    {
     "data": {
      "text/plain": [
       "(None, 96.7741935483871)"
      ]
     },
     "execution_count": 79,
     "metadata": {},
     "output_type": "execute_result"
    }
   ],
   "source": [
    "print(\"Recall score is \"), recall_score(y_test,y_pred)*100"
   ]
  },
  {
   "cell_type": "markdown",
   "metadata": {},
   "source": [
    "##### Matthews Correlation Coefficient"
   ]
  },
  {
   "cell_type": "code",
   "execution_count": 78,
   "metadata": {},
   "outputs": [
    {
     "name": "stdout",
     "output_type": "stream",
     "text": [
      "Matthews correlation coefficient is \n"
     ]
    },
    {
     "data": {
      "text/plain": [
       "(None, 83.98445462992558)"
      ]
     },
     "execution_count": 78,
     "metadata": {},
     "output_type": "execute_result"
    }
   ],
   "source": [
    "print(\"Matthews correlation coefficient is \"), matthews_corrcoef(y_test,y_pred)*100"
   ]
  },
  {
   "cell_type": "code",
   "execution_count": 44,
   "metadata": {},
   "outputs": [
    {
     "name": "stdout",
     "output_type": "stream",
     "text": [
      "[[26  4]\n",
      " [ 1 30]]\n"
     ]
    }
   ],
   "source": [
    "cm = confusion_matrix(y_test, y_pred)\n",
    "print(cm)"
   ]
  },
  {
   "cell_type": "code",
   "execution_count": null,
   "metadata": {},
   "outputs": [],
   "source": []
  }
 ],
 "metadata": {
  "kernelspec": {
   "display_name": "Python 3",
   "language": "python",
   "name": "python3"
  },
  "language_info": {
   "codemirror_mode": {
    "name": "ipython",
    "version": 3
   },
   "file_extension": ".py",
   "mimetype": "text/x-python",
   "name": "python",
   "nbconvert_exporter": "python",
   "pygments_lexer": "ipython3",
   "version": "3.7.6"
  }
 },
 "nbformat": 4,
 "nbformat_minor": 4
}
